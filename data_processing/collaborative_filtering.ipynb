{
 "cells": [
  {
   "cell_type": "code",
   "execution_count": 1,
   "metadata": {},
   "outputs": [],
   "source": [
    "import numpy as np\n",
    "import pandas as pd"
   ]
  },
  {
   "cell_type": "code",
   "execution_count": 2,
   "metadata": {},
   "outputs": [],
   "source": [
    "# Read in JSON into dataframe\n",
    "df = pd.read_json('StreamingHistory.json')"
   ]
  },
  {
   "cell_type": "code",
   "execution_count": 3,
   "metadata": {},
   "outputs": [],
   "source": [
    "# get number of rows\n",
    "half_rows = df['artistName'].count() / 2"
   ]
  },
  {
   "cell_type": "code",
   "execution_count": 4,
   "metadata": {},
   "outputs": [],
   "source": [
    "# drop all columns besides artistNames\n",
    "df = df.drop(columns=['trackName', 'endTime', 'msPlayed'])"
   ]
  },
  {
   "cell_type": "code",
   "execution_count": 5,
   "metadata": {},
   "outputs": [],
   "source": [
    "# split into 2 dfs\n",
    "df1, df2 = np.split(df, [int(half_rows)], axis=0)"
   ]
  },
  {
   "cell_type": "code",
   "execution_count": 6,
   "metadata": {},
   "outputs": [
    {
     "name": "stdout",
     "output_type": "stream",
     "text": [
      "                            artistName      freq\n",
      "0                                Flume  8.224480\n",
      "1                         Janis Joplin  7.789066\n",
      "2                             Jai Wolf  6.773101\n",
      "3                                 GRiZ  6.627963\n",
      "4    Big Brother & The Holding Company  4.547654\n",
      "..                                 ...       ...\n",
      "381                           Magroove  0.048379\n",
      "382                             FIDLAR  0.048379\n",
      "383                        Cheat Codes  0.048379\n",
      "384                         Pivot Gang  0.048379\n",
      "385                       Unlike Pluto  0.048379\n",
      "\n",
      "[386 rows x 2 columns]\n",
      "----------------------\n",
      "                            artistName      freq\n",
      "0                           Kanye West  6.192550\n",
      "1                      Johannes Brahms  5.079826\n",
      "2                                Flume  4.934688\n",
      "3                      Vampire Weekend  4.837929\n",
      "4                             Big Wild  4.450895\n",
      "..                                 ...       ...\n",
      "307                       Current Joys  0.048379\n",
      "308                           Kid Cudi  0.048379\n",
      "309           Nick Murphy / Chet Faker  0.048379\n",
      "310  Joe Hertler & The Rainbow Seekers  0.048379\n",
      "311                            Phoenix  0.048379\n",
      "\n",
      "[312 rows x 2 columns]\n"
     ]
    }
   ],
   "source": [
    "# generate 2 dataframes with unique artists and their frequencies\n",
    "df1_unique_freq = df1['artistName'].value_counts(normalize=True).rename_axis('artistName').reset_index(name='freq')\n",
    "df2_unique_freq = df2['artistName'].value_counts(normalize=True).rename_axis('artistName').reset_index(name='freq')\n",
    "\n",
    "# stretch rating scale from 0-1000\n",
    "df1_unique_freq['freq'] = df1_unique_freq['freq'] * 100\n",
    "df2_unique_freq['freq'] = df2_unique_freq['freq'] * 100\n",
    "\n",
    "\n",
    "print(df1_unique_freq)\n",
    "print('----------------------')\n",
    "print(df2_unique_freq)"
   ]
  },
  {
   "cell_type": "code",
   "execution_count": 7,
   "metadata": {},
   "outputs": [
    {
     "name": "stdout",
     "output_type": "stream",
     "text": [
      "536\n"
     ]
    }
   ],
   "source": [
    "# create ndarray of all unique artists from both dfs\n",
    "full_unique = pd.Series.append(df1_unique_freq['artistName'], df2_unique_freq['artistName']).unique()\n",
    "\n",
    "print(full_unique.size)"
   ]
  },
  {
   "cell_type": "code",
   "execution_count": 8,
   "metadata": {},
   "outputs": [
    {
     "name": "stdout",
     "output_type": "stream",
     "text": [
      "                            artistName    freq_x    freq_y\n",
      "0                                Flume  8.224480  4.934688\n",
      "1                         Janis Joplin  7.789066  0.290276\n",
      "2                             Jai Wolf  6.773101  1.161103\n",
      "3                                 GRiZ  6.627963  1.838413\n",
      "4    Big Brother & The Holding Company  4.547654       NaN\n",
      "..                                 ...       ...       ...\n",
      "531                               Pond       NaN  0.048379\n",
      "532                    CharlesTheFirst       NaN  0.048379\n",
      "533                       Current Joys       NaN  0.048379\n",
      "534           Nick Murphy / Chet Faker       NaN  0.048379\n",
      "535  Joe Hertler & The Rainbow Seekers       NaN  0.048379\n",
      "\n",
      "[536 rows x 3 columns]\n"
     ]
    }
   ],
   "source": [
    "# # create dataframe with combined unique artists and frequencies with NaN values filled with 0\n",
    "test = pd.merge(df1_unique_freq, df2_unique_freq, on=\"artistName\", how=\"outer\")\n",
    "print(test)"
   ]
  },
  {
   "cell_type": "code",
   "execution_count": 9,
   "metadata": {
    "scrolled": true
   },
   "outputs": [
    {
     "name": "stdout",
     "output_type": "stream",
     "text": [
      "     userId  artistId      freq\n",
      "0         0         0  8.224480\n",
      "1         0         1  7.789066\n",
      "2         0         2  6.773101\n",
      "3         0         3  6.627963\n",
      "4         0         4  4.547654\n",
      "..      ...       ...       ...\n",
      "531       1       531  0.048379\n",
      "532       1       532  0.048379\n",
      "533       1       533  0.048379\n",
      "534       1       534  0.048379\n",
      "535       1       535  0.048379\n",
      "\n",
      "[1072 rows x 3 columns]\n"
     ]
    }
   ],
   "source": [
    "# Construct full dataset and convert catagorical artistName and artistId to numerical ids\n",
    "df_x = pd.DataFrame.from_dict({ 'userId' : [0 for i in range(test['artistName'].size)], 'artistId' : [i for i in range(test['artistName'].size)], 'freq' : test['freq_x']})\n",
    "df_y = pd.DataFrame.from_dict({ 'userId' : [1 for i in range(test['artistName'].size)], 'artistId' : [i for i in range(test['artistName'].size)], 'freq' : test['freq_y']})\n",
    "dataset = pd.DataFrame.append(df_x, df_y)\n",
    "\n",
    "print(dataset)"
   ]
  },
  {
   "cell_type": "code",
   "execution_count": 29,
   "metadata": {
    "scrolled": true
   },
   "outputs": [
    {
     "name": "stdout",
     "output_type": "stream",
     "text": [
      "     userId  artistId      freq\n",
      "0         0         0  8.224480\n",
      "1         0         1  7.789066\n",
      "2         0         2  6.773101\n",
      "3         0         3  6.627963\n",
      "4         0         4  4.547654\n",
      "..      ...       ...       ...\n",
      "531       1       531  0.048379\n",
      "532       1       532  0.048379\n",
      "533       1       533  0.048379\n",
      "534       1       534  0.048379\n",
      "535       1       535  0.048379\n",
      "\n",
      "[698 rows x 3 columns]\n"
     ]
    }
   ],
   "source": [
    "# seperate dataset into dataframe with only NaN and no NaN\n",
    "dataset_no_zeros = dataset[dataset['freq'].notna()]\n",
    "dataset_zeros = dataset[dataset['freq'].isna()]\n",
    "\n",
    "print(dataset_no_zeros)\n"
   ]
  },
  {
   "cell_type": "code",
   "execution_count": 11,
   "metadata": {},
   "outputs": [],
   "source": [
    "# # userID and artistId to string\n",
    "\n",
    "# dataset_no_zeros['userId'] = dataset_no_zeros['userId'].astype(str)\n",
    "# dataset_no_zeros['artistId'] = dataset_no_zeros['artistId'].astype(str)\n",
    "\n",
    "# print(dataset_no_zeros.dtypes)"
   ]
  },
  {
   "cell_type": "code",
   "execution_count": 12,
   "metadata": {},
   "outputs": [],
   "source": [
    "from surprise import Reader, Dataset"
   ]
  },
  {
   "cell_type": "code",
   "execution_count": 13,
   "metadata": {},
   "outputs": [],
   "source": [
    "# import data into suprise dataset\n",
    "reader = Reader(rating_scale=(0, 100))\n",
    "\n",
    "data_no_zeros = Dataset.load_from_df(dataset_no_zeros[['userId', 'artistId', 'freq']], reader)"
   ]
  },
  {
   "cell_type": "code",
   "execution_count": 14,
   "metadata": {},
   "outputs": [
    {
     "name": "stdout",
     "output_type": "stream",
     "text": [
      "<surprise.trainset.Trainset object at 0x116e94e90>\n"
     ]
    }
   ],
   "source": [
    "# split dataset into train and test\n",
    "from surprise.model_selection import train_test_split\n",
    "\n",
    "trainset, testset = train_test_split(data_no_zeros, test_size=0.2)\n",
    "\n",
    "trainset = data_no_zeros.build_full_trainset()\n",
    "print(trainset)"
   ]
  },
  {
   "cell_type": "code",
   "execution_count": 15,
   "metadata": {},
   "outputs": [
    {
     "data": {
      "text/plain": [
       "<surprise.prediction_algorithms.matrix_factorization.SVD at 0x116cebc50>"
      ]
     },
     "execution_count": 15,
     "metadata": {},
     "output_type": "execute_result"
    }
   ],
   "source": [
    "# fit SVD model\n",
    "from surprise import SVD, accuracy\n",
    "\n",
    "algo = SVD()\n",
    "algo.fit(trainset)"
   ]
  },
  {
   "cell_type": "code",
   "execution_count": 16,
   "metadata": {},
   "outputs": [],
   "source": [
    "# Make prediction\n",
    "predictions = algo.test(testset)"
   ]
  },
  {
   "cell_type": "code",
   "execution_count": 17,
   "metadata": {},
   "outputs": [
    {
     "name": "stdout",
     "output_type": "stream",
     "text": [
      "RMSE: 0.6968\n"
     ]
    },
    {
     "data": {
      "text/plain": [
       "0.6967793134981018"
      ]
     },
     "execution_count": 17,
     "metadata": {},
     "output_type": "execute_result"
    }
   ],
   "source": [
    "# Test model accuracy use root mean squared error\n",
    "from surprise import accuracy\n",
    "accuracy.rmse(predictions)"
   ]
  },
  {
   "cell_type": "code",
   "execution_count": 18,
   "metadata": {},
   "outputs": [],
   "source": [
    "# Load in full data df into suprise dataset object\n",
    "data = Dataset.load_from_df(dataset[['userId', 'artistId', 'freq']], reader)"
   ]
  },
  {
   "cell_type": "code",
   "execution_count": 19,
   "metadata": {},
   "outputs": [
    {
     "name": "stdout",
     "output_type": "stream",
     "text": [
      "(0, 100)\n"
     ]
    }
   ],
   "source": [
    "# cast suprise dataset object into suprise trainset object\n",
    "\n",
    "data = data.build_full_trainset()\n",
    "\n",
    "\n",
    "print(data.rating_scale)"
   ]
  },
  {
   "cell_type": "code",
   "execution_count": 20,
   "metadata": {},
   "outputs": [
    {
     "name": "stdout",
     "output_type": "stream",
     "text": [
      "user: 0          item: 386        r_ui = nan   est = 0.64   {'was_impossible': False}\n",
      "user: 0          item: 387        r_ui = nan   est = 0.54   {'was_impossible': False}\n",
      "user: 0          item: 388        r_ui = nan   est = 0.33   {'was_impossible': False}\n",
      "user: 0          item: 389        r_ui = nan   est = 0.31   {'was_impossible': False}\n",
      "user: 0          item: 390        r_ui = nan   est = 0.23   {'was_impossible': False}\n",
      "user: 0          item: 391        r_ui = nan   est = 0.00   {'was_impossible': False}\n",
      "user: 0          item: 392        r_ui = nan   est = 0.40   {'was_impossible': False}\n",
      "user: 0          item: 393        r_ui = nan   est = 0.00   {'was_impossible': False}\n",
      "user: 0          item: 394        r_ui = nan   est = 0.27   {'was_impossible': False}\n",
      "user: 0          item: 395        r_ui = nan   est = 0.10   {'was_impossible': False}\n",
      "user: 0          item: 396        r_ui = nan   est = 0.10   {'was_impossible': False}\n",
      "user: 0          item: 397        r_ui = nan   est = 0.01   {'was_impossible': False}\n",
      "user: 0          item: 398        r_ui = nan   est = 0.02   {'was_impossible': False}\n",
      "user: 0          item: 399        r_ui = nan   est = 0.19   {'was_impossible': False}\n",
      "user: 0          item: 400        r_ui = nan   est = 0.19   {'was_impossible': False}\n",
      "user: 0          item: 401        r_ui = nan   est = 0.17   {'was_impossible': False}\n",
      "user: 0          item: 402        r_ui = nan   est = 0.21   {'was_impossible': False}\n",
      "user: 0          item: 403        r_ui = nan   est = 0.07   {'was_impossible': False}\n",
      "user: 0          item: 404        r_ui = nan   est = 0.00   {'was_impossible': False}\n",
      "user: 0          item: 405        r_ui = nan   est = 0.33   {'was_impossible': False}\n",
      "user: 0          item: 406        r_ui = nan   est = 0.20   {'was_impossible': False}\n",
      "user: 0          item: 407        r_ui = nan   est = 0.16   {'was_impossible': False}\n",
      "user: 0          item: 408        r_ui = nan   est = 0.07   {'was_impossible': False}\n",
      "user: 0          item: 409        r_ui = nan   est = 0.23   {'was_impossible': False}\n",
      "user: 0          item: 410        r_ui = nan   est = 0.17   {'was_impossible': False}\n",
      "user: 0          item: 411        r_ui = nan   est = 0.52   {'was_impossible': False}\n",
      "user: 0          item: 412        r_ui = nan   est = 0.00   {'was_impossible': False}\n",
      "user: 0          item: 413        r_ui = nan   est = 0.00   {'was_impossible': False}\n",
      "user: 0          item: 414        r_ui = nan   est = 0.23   {'was_impossible': False}\n",
      "user: 0          item: 415        r_ui = nan   est = 0.00   {'was_impossible': False}\n",
      "user: 0          item: 416        r_ui = nan   est = 0.15   {'was_impossible': False}\n",
      "user: 0          item: 417        r_ui = nan   est = 0.25   {'was_impossible': False}\n",
      "user: 0          item: 418        r_ui = nan   est = 0.04   {'was_impossible': False}\n",
      "user: 0          item: 419        r_ui = nan   est = 0.13   {'was_impossible': False}\n",
      "user: 0          item: 420        r_ui = nan   est = 0.41   {'was_impossible': False}\n",
      "user: 0          item: 421        r_ui = nan   est = 0.09   {'was_impossible': False}\n",
      "user: 0          item: 422        r_ui = nan   est = 0.00   {'was_impossible': False}\n",
      "user: 0          item: 423        r_ui = nan   est = 0.22   {'was_impossible': False}\n",
      "user: 0          item: 424        r_ui = nan   est = 0.33   {'was_impossible': False}\n",
      "user: 0          item: 425        r_ui = nan   est = 0.00   {'was_impossible': False}\n",
      "user: 0          item: 426        r_ui = nan   est = 0.30   {'was_impossible': False}\n",
      "user: 0          item: 427        r_ui = nan   est = 0.02   {'was_impossible': False}\n",
      "user: 0          item: 428        r_ui = nan   est = 0.10   {'was_impossible': False}\n",
      "user: 0          item: 429        r_ui = nan   est = 0.38   {'was_impossible': False}\n",
      "user: 0          item: 430        r_ui = nan   est = 0.37   {'was_impossible': False}\n",
      "user: 0          item: 431        r_ui = nan   est = 0.14   {'was_impossible': False}\n",
      "user: 0          item: 432        r_ui = nan   est = 0.30   {'was_impossible': False}\n",
      "user: 0          item: 433        r_ui = nan   est = 0.00   {'was_impossible': False}\n",
      "user: 0          item: 434        r_ui = nan   est = 0.08   {'was_impossible': False}\n",
      "user: 0          item: 435        r_ui = nan   est = 0.05   {'was_impossible': False}\n",
      "user: 0          item: 436        r_ui = nan   est = 0.00   {'was_impossible': False}\n",
      "user: 0          item: 437        r_ui = nan   est = 0.29   {'was_impossible': False}\n",
      "user: 0          item: 438        r_ui = nan   est = 0.00   {'was_impossible': False}\n",
      "user: 0          item: 439        r_ui = nan   est = 0.41   {'was_impossible': False}\n",
      "user: 0          item: 440        r_ui = nan   est = 0.14   {'was_impossible': False}\n",
      "user: 0          item: 441        r_ui = nan   est = 0.26   {'was_impossible': False}\n",
      "user: 0          item: 442        r_ui = nan   est = 0.20   {'was_impossible': False}\n",
      "user: 0          item: 443        r_ui = nan   est = 0.08   {'was_impossible': False}\n",
      "user: 0          item: 444        r_ui = nan   est = 0.40   {'was_impossible': False}\n",
      "user: 0          item: 445        r_ui = nan   est = 0.14   {'was_impossible': False}\n",
      "user: 0          item: 446        r_ui = nan   est = 0.00   {'was_impossible': False}\n",
      "user: 0          item: 447        r_ui = nan   est = 0.11   {'was_impossible': False}\n",
      "user: 0          item: 448        r_ui = nan   est = 0.08   {'was_impossible': False}\n",
      "user: 0          item: 449        r_ui = nan   est = 0.00   {'was_impossible': False}\n",
      "user: 0          item: 450        r_ui = nan   est = 0.07   {'was_impossible': False}\n",
      "user: 0          item: 451        r_ui = nan   est = 0.18   {'was_impossible': False}\n",
      "user: 0          item: 452        r_ui = nan   est = 0.08   {'was_impossible': False}\n",
      "user: 0          item: 453        r_ui = nan   est = 0.29   {'was_impossible': False}\n",
      "user: 0          item: 454        r_ui = nan   est = 0.00   {'was_impossible': False}\n",
      "user: 0          item: 455        r_ui = nan   est = 0.03   {'was_impossible': False}\n",
      "user: 0          item: 456        r_ui = nan   est = 0.21   {'was_impossible': False}\n",
      "user: 0          item: 457        r_ui = nan   est = 0.16   {'was_impossible': False}\n",
      "user: 0          item: 458        r_ui = nan   est = 0.32   {'was_impossible': False}\n",
      "user: 0          item: 459        r_ui = nan   est = 0.00   {'was_impossible': False}\n",
      "user: 0          item: 460        r_ui = nan   est = 0.04   {'was_impossible': False}\n",
      "user: 0          item: 461        r_ui = nan   est = 0.12   {'was_impossible': False}\n",
      "user: 0          item: 462        r_ui = nan   est = 0.19   {'was_impossible': False}\n",
      "user: 0          item: 463        r_ui = nan   est = 0.24   {'was_impossible': False}\n",
      "user: 0          item: 464        r_ui = nan   est = 0.00   {'was_impossible': False}\n",
      "user: 0          item: 465        r_ui = nan   est = 0.13   {'was_impossible': False}\n",
      "user: 0          item: 466        r_ui = nan   est = 0.04   {'was_impossible': False}\n",
      "user: 0          item: 467        r_ui = nan   est = 0.02   {'was_impossible': False}\n",
      "user: 0          item: 468        r_ui = nan   est = 0.00   {'was_impossible': False}\n",
      "user: 0          item: 469        r_ui = nan   est = 0.24   {'was_impossible': False}\n",
      "user: 0          item: 470        r_ui = nan   est = 0.09   {'was_impossible': False}\n",
      "user: 0          item: 471        r_ui = nan   est = 0.00   {'was_impossible': False}\n",
      "user: 0          item: 472        r_ui = nan   est = 0.34   {'was_impossible': False}\n",
      "user: 0          item: 473        r_ui = nan   est = 0.03   {'was_impossible': False}\n",
      "user: 0          item: 474        r_ui = nan   est = 0.00   {'was_impossible': False}\n",
      "user: 0          item: 475        r_ui = nan   est = 0.10   {'was_impossible': False}\n",
      "user: 0          item: 476        r_ui = nan   est = 0.00   {'was_impossible': False}\n",
      "user: 0          item: 477        r_ui = nan   est = 0.33   {'was_impossible': False}\n",
      "user: 0          item: 478        r_ui = nan   est = 0.42   {'was_impossible': False}\n",
      "user: 0          item: 479        r_ui = nan   est = 0.28   {'was_impossible': False}\n",
      "user: 0          item: 480        r_ui = nan   est = 0.22   {'was_impossible': False}\n",
      "user: 0          item: 481        r_ui = nan   est = 0.17   {'was_impossible': False}\n",
      "user: 0          item: 482        r_ui = nan   est = 0.02   {'was_impossible': False}\n",
      "user: 0          item: 483        r_ui = nan   est = 0.24   {'was_impossible': False}\n",
      "user: 0          item: 484        r_ui = nan   est = 0.06   {'was_impossible': False}\n",
      "user: 0          item: 485        r_ui = nan   est = 0.00   {'was_impossible': False}\n",
      "user: 0          item: 486        r_ui = nan   est = 0.00   {'was_impossible': False}\n",
      "user: 0          item: 487        r_ui = nan   est = 0.42   {'was_impossible': False}\n",
      "user: 0          item: 488        r_ui = nan   est = 0.26   {'was_impossible': False}\n",
      "user: 0          item: 489        r_ui = nan   est = 0.00   {'was_impossible': False}\n",
      "user: 0          item: 490        r_ui = nan   est = 0.08   {'was_impossible': False}\n",
      "user: 0          item: 491        r_ui = nan   est = 0.14   {'was_impossible': False}\n",
      "user: 0          item: 492        r_ui = nan   est = 0.58   {'was_impossible': False}\n",
      "user: 0          item: 493        r_ui = nan   est = 0.10   {'was_impossible': False}\n",
      "user: 0          item: 494        r_ui = nan   est = 0.15   {'was_impossible': False}\n",
      "user: 0          item: 495        r_ui = nan   est = 0.30   {'was_impossible': False}\n",
      "user: 0          item: 496        r_ui = nan   est = 0.29   {'was_impossible': False}\n",
      "user: 0          item: 497        r_ui = nan   est = 0.10   {'was_impossible': False}\n",
      "user: 0          item: 498        r_ui = nan   est = 0.21   {'was_impossible': False}\n",
      "user: 0          item: 499        r_ui = nan   est = 0.25   {'was_impossible': False}\n",
      "user: 0          item: 500        r_ui = nan   est = 0.21   {'was_impossible': False}\n",
      "user: 0          item: 501        r_ui = nan   est = 0.16   {'was_impossible': False}\n",
      "user: 0          item: 502        r_ui = nan   est = 0.19   {'was_impossible': False}\n",
      "user: 0          item: 503        r_ui = nan   est = 0.23   {'was_impossible': False}\n",
      "user: 0          item: 504        r_ui = nan   est = 0.23   {'was_impossible': False}\n",
      "user: 0          item: 505        r_ui = nan   est = 0.27   {'was_impossible': False}\n",
      "user: 0          item: 506        r_ui = nan   est = 0.26   {'was_impossible': False}\n",
      "user: 0          item: 507        r_ui = nan   est = 0.17   {'was_impossible': False}\n",
      "user: 0          item: 508        r_ui = nan   est = 0.00   {'was_impossible': False}\n",
      "user: 0          item: 509        r_ui = nan   est = 0.13   {'was_impossible': False}\n",
      "user: 0          item: 510        r_ui = nan   est = 0.28   {'was_impossible': False}\n",
      "user: 0          item: 511        r_ui = nan   est = 0.12   {'was_impossible': False}\n",
      "user: 0          item: 512        r_ui = nan   est = 0.22   {'was_impossible': False}\n",
      "user: 0          item: 513        r_ui = nan   est = 0.07   {'was_impossible': False}\n",
      "user: 0          item: 514        r_ui = nan   est = 0.00   {'was_impossible': False}\n",
      "user: 0          item: 515        r_ui = nan   est = 0.18   {'was_impossible': False}\n",
      "user: 0          item: 516        r_ui = nan   est = 0.35   {'was_impossible': False}\n",
      "user: 0          item: 517        r_ui = nan   est = 0.09   {'was_impossible': False}\n",
      "user: 0          item: 518        r_ui = nan   est = 0.00   {'was_impossible': False}\n",
      "user: 0          item: 519        r_ui = nan   est = 0.49   {'was_impossible': False}\n",
      "user: 0          item: 520        r_ui = nan   est = 0.23   {'was_impossible': False}\n",
      "user: 0          item: 521        r_ui = nan   est = 0.22   {'was_impossible': False}\n",
      "user: 0          item: 522        r_ui = nan   est = 0.13   {'was_impossible': False}\n",
      "user: 0          item: 523        r_ui = nan   est = 0.15   {'was_impossible': False}\n",
      "user: 0          item: 524        r_ui = nan   est = 0.27   {'was_impossible': False}\n",
      "user: 0          item: 525        r_ui = nan   est = 0.13   {'was_impossible': False}\n",
      "user: 0          item: 526        r_ui = nan   est = 0.13   {'was_impossible': False}\n",
      "user: 0          item: 527        r_ui = nan   est = 0.00   {'was_impossible': False}\n",
      "user: 0          item: 528        r_ui = nan   est = 0.02   {'was_impossible': False}\n",
      "user: 0          item: 529        r_ui = nan   est = 0.18   {'was_impossible': False}\n",
      "user: 0          item: 530        r_ui = nan   est = 0.33   {'was_impossible': False}\n",
      "user: 0          item: 531        r_ui = nan   est = 0.22   {'was_impossible': False}\n",
      "user: 0          item: 532        r_ui = nan   est = 0.27   {'was_impossible': False}\n",
      "user: 0          item: 533        r_ui = nan   est = 0.00   {'was_impossible': False}\n",
      "user: 0          item: 534        r_ui = nan   est = 0.42   {'was_impossible': False}\n",
      "user: 0          item: 535        r_ui = nan   est = 0.10   {'was_impossible': False}\n",
      "user: 1          item: 4          r_ui = nan   est = 0.76   {'was_impossible': False}\n",
      "user: 1          item: 6          r_ui = nan   est = 0.42   {'was_impossible': False}\n",
      "user: 1          item: 11         r_ui = nan   est = 0.40   {'was_impossible': False}\n",
      "user: 1          item: 13         r_ui = nan   est = 0.39   {'was_impossible': False}\n",
      "user: 1          item: 15         r_ui = nan   est = 0.39   {'was_impossible': False}\n",
      "user: 1          item: 20         r_ui = nan   est = 0.27   {'was_impossible': False}\n",
      "user: 1          item: 33         r_ui = nan   est = 0.43   {'was_impossible': False}\n",
      "user: 1          item: 40         r_ui = nan   est = 0.15   {'was_impossible': False}\n",
      "user: 1          item: 41         r_ui = nan   est = 0.00   {'was_impossible': False}\n",
      "user: 1          item: 44         r_ui = nan   est = 0.40   {'was_impossible': False}\n",
      "user: 1          item: 52         r_ui = nan   est = 0.12   {'was_impossible': False}\n",
      "user: 1          item: 54         r_ui = nan   est = 0.13   {'was_impossible': False}\n",
      "user: 1          item: 56         r_ui = nan   est = 0.26   {'was_impossible': False}\n",
      "user: 1          item: 61         r_ui = nan   est = 0.24   {'was_impossible': False}\n",
      "user: 1          item: 63         r_ui = nan   est = 0.35   {'was_impossible': False}\n",
      "user: 1          item: 65         r_ui = nan   est = 0.42   {'was_impossible': False}\n",
      "user: 1          item: 70         r_ui = nan   est = 0.26   {'was_impossible': False}\n",
      "user: 1          item: 72         r_ui = nan   est = 0.31   {'was_impossible': False}\n",
      "user: 1          item: 74         r_ui = nan   est = 0.17   {'was_impossible': False}\n",
      "user: 1          item: 76         r_ui = nan   est = 0.10   {'was_impossible': False}\n",
      "user: 1          item: 77         r_ui = nan   est = 0.27   {'was_impossible': False}\n",
      "user: 1          item: 79         r_ui = nan   est = 0.24   {'was_impossible': False}\n",
      "user: 1          item: 82         r_ui = nan   est = 0.08   {'was_impossible': False}\n",
      "user: 1          item: 83         r_ui = nan   est = 0.23   {'was_impossible': False}\n",
      "user: 1          item: 84         r_ui = nan   est = 0.07   {'was_impossible': False}\n",
      "user: 1          item: 85         r_ui = nan   est = 0.26   {'was_impossible': False}\n",
      "user: 1          item: 86         r_ui = nan   est = 0.09   {'was_impossible': False}\n",
      "user: 1          item: 87         r_ui = nan   est = 0.33   {'was_impossible': False}\n",
      "user: 1          item: 92         r_ui = nan   est = 0.26   {'was_impossible': False}\n",
      "user: 1          item: 93         r_ui = nan   est = 0.11   {'was_impossible': False}\n",
      "user: 1          item: 95         r_ui = nan   est = 0.26   {'was_impossible': False}\n",
      "user: 1          item: 97         r_ui = nan   est = 0.07   {'was_impossible': False}\n",
      "user: 1          item: 98         r_ui = nan   est = 0.27   {'was_impossible': False}\n",
      "user: 1          item: 100        r_ui = nan   est = 0.14   {'was_impossible': False}\n",
      "user: 1          item: 104        r_ui = nan   est = 0.23   {'was_impossible': False}\n",
      "user: 1          item: 105        r_ui = nan   est = 0.30   {'was_impossible': False}\n",
      "user: 1          item: 107        r_ui = nan   est = 0.17   {'was_impossible': False}\n",
      "user: 1          item: 108        r_ui = nan   est = 0.27   {'was_impossible': False}\n",
      "user: 1          item: 110        r_ui = nan   est = 0.00   {'was_impossible': False}\n",
      "user: 1          item: 111        r_ui = nan   est = 0.28   {'was_impossible': False}\n",
      "user: 1          item: 112        r_ui = nan   est = 0.17   {'was_impossible': False}\n",
      "user: 1          item: 113        r_ui = nan   est = 0.05   {'was_impossible': False}\n",
      "user: 1          item: 114        r_ui = nan   est = 0.25   {'was_impossible': False}\n",
      "user: 1          item: 115        r_ui = nan   est = 0.06   {'was_impossible': False}\n",
      "user: 1          item: 116        r_ui = nan   est = 0.34   {'was_impossible': False}\n",
      "user: 1          item: 117        r_ui = nan   est = 0.33   {'was_impossible': False}\n",
      "user: 1          item: 118        r_ui = nan   est = 0.06   {'was_impossible': False}\n",
      "user: 1          item: 119        r_ui = nan   est = 0.21   {'was_impossible': False}\n",
      "user: 1          item: 123        r_ui = nan   est = 0.16   {'was_impossible': False}\n",
      "user: 1          item: 124        r_ui = nan   est = 0.22   {'was_impossible': False}\n",
      "user: 1          item: 125        r_ui = nan   est = 0.18   {'was_impossible': False}\n",
      "user: 1          item: 126        r_ui = nan   est = 0.12   {'was_impossible': False}\n",
      "user: 1          item: 128        r_ui = nan   est = 0.35   {'was_impossible': False}\n",
      "user: 1          item: 129        r_ui = nan   est = 0.14   {'was_impossible': False}\n",
      "user: 1          item: 130        r_ui = nan   est = 0.27   {'was_impossible': False}\n",
      "user: 1          item: 131        r_ui = nan   est = 0.20   {'was_impossible': False}\n",
      "user: 1          item: 132        r_ui = nan   est = 0.35   {'was_impossible': False}\n",
      "user: 1          item: 135        r_ui = nan   est = 0.29   {'was_impossible': False}\n",
      "user: 1          item: 137        r_ui = nan   est = 0.17   {'was_impossible': False}\n",
      "user: 1          item: 138        r_ui = nan   est = 0.11   {'was_impossible': False}\n",
      "user: 1          item: 141        r_ui = nan   est = 0.16   {'was_impossible': False}\n",
      "user: 1          item: 142        r_ui = nan   est = 0.09   {'was_impossible': False}\n",
      "user: 1          item: 143        r_ui = nan   est = 0.15   {'was_impossible': False}\n",
      "user: 1          item: 145        r_ui = nan   est = 0.19   {'was_impossible': False}\n",
      "user: 1          item: 146        r_ui = nan   est = 0.48   {'was_impossible': False}\n",
      "user: 1          item: 147        r_ui = nan   est = 0.39   {'was_impossible': False}\n",
      "user: 1          item: 148        r_ui = nan   est = 0.34   {'was_impossible': False}\n",
      "user: 1          item: 151        r_ui = nan   est = 0.20   {'was_impossible': False}\n",
      "user: 1          item: 152        r_ui = nan   est = 0.12   {'was_impossible': False}\n",
      "user: 1          item: 153        r_ui = nan   est = 0.22   {'was_impossible': False}\n",
      "user: 1          item: 154        r_ui = nan   est = 0.00   {'was_impossible': False}\n",
      "user: 1          item: 155        r_ui = nan   est = 0.17   {'was_impossible': False}\n",
      "user: 1          item: 156        r_ui = nan   est = 0.00   {'was_impossible': False}\n",
      "user: 1          item: 157        r_ui = nan   est = 0.03   {'was_impossible': False}\n",
      "user: 1          item: 158        r_ui = nan   est = 0.26   {'was_impossible': False}\n",
      "user: 1          item: 159        r_ui = nan   est = 0.08   {'was_impossible': False}\n",
      "user: 1          item: 160        r_ui = nan   est = 0.22   {'was_impossible': False}\n",
      "user: 1          item: 162        r_ui = nan   est = 0.00   {'was_impossible': False}\n",
      "user: 1          item: 163        r_ui = nan   est = 0.20   {'was_impossible': False}\n",
      "user: 1          item: 164        r_ui = nan   est = 0.08   {'was_impossible': False}\n",
      "user: 1          item: 166        r_ui = nan   est = 0.20   {'was_impossible': False}\n",
      "user: 1          item: 169        r_ui = nan   est = 0.12   {'was_impossible': False}\n",
      "user: 1          item: 173        r_ui = nan   est = 0.24   {'was_impossible': False}\n",
      "user: 1          item: 176        r_ui = nan   est = 0.39   {'was_impossible': False}\n",
      "user: 1          item: 180        r_ui = nan   est = 0.40   {'was_impossible': False}\n",
      "user: 1          item: 183        r_ui = nan   est = 0.29   {'was_impossible': False}\n",
      "user: 1          item: 187        r_ui = nan   est = 0.33   {'was_impossible': False}\n",
      "user: 1          item: 188        r_ui = nan   est = 0.15   {'was_impossible': False}\n",
      "user: 1          item: 189        r_ui = nan   est = 0.43   {'was_impossible': False}\n",
      "user: 1          item: 190        r_ui = nan   est = 0.00   {'was_impossible': False}\n",
      "user: 1          item: 191        r_ui = nan   est = 0.38   {'was_impossible': False}\n",
      "user: 1          item: 192        r_ui = nan   est = 0.22   {'was_impossible': False}\n",
      "user: 1          item: 194        r_ui = nan   est = 0.18   {'was_impossible': False}\n",
      "user: 1          item: 195        r_ui = nan   est = 0.42   {'was_impossible': False}\n",
      "user: 1          item: 196        r_ui = nan   est = 0.34   {'was_impossible': False}\n",
      "user: 1          item: 197        r_ui = nan   est = 0.29   {'was_impossible': False}\n",
      "user: 1          item: 198        r_ui = nan   est = 0.18   {'was_impossible': False}\n",
      "user: 1          item: 199        r_ui = nan   est = 0.37   {'was_impossible': False}\n",
      "user: 1          item: 201        r_ui = nan   est = 0.34   {'was_impossible': False}\n",
      "user: 1          item: 203        r_ui = nan   est = 0.11   {'was_impossible': False}\n",
      "user: 1          item: 204        r_ui = nan   est = 0.21   {'was_impossible': False}\n",
      "user: 1          item: 205        r_ui = nan   est = 0.01   {'was_impossible': False}\n",
      "user: 1          item: 206        r_ui = nan   est = 0.17   {'was_impossible': False}\n",
      "user: 1          item: 207        r_ui = nan   est = 0.39   {'was_impossible': False}\n",
      "user: 1          item: 208        r_ui = nan   est = 0.22   {'was_impossible': False}\n",
      "user: 1          item: 209        r_ui = nan   est = 0.14   {'was_impossible': False}\n",
      "user: 1          item: 211        r_ui = nan   est = 0.09   {'was_impossible': False}\n",
      "user: 1          item: 212        r_ui = nan   est = 0.13   {'was_impossible': False}\n",
      "user: 1          item: 213        r_ui = nan   est = 0.13   {'was_impossible': False}\n",
      "user: 1          item: 214        r_ui = nan   est = 0.19   {'was_impossible': False}\n",
      "user: 1          item: 215        r_ui = nan   est = 0.37   {'was_impossible': False}\n",
      "user: 1          item: 216        r_ui = nan   est = 0.12   {'was_impossible': False}\n",
      "user: 1          item: 217        r_ui = nan   est = 0.00   {'was_impossible': False}\n",
      "user: 1          item: 219        r_ui = nan   est = 0.46   {'was_impossible': False}\n",
      "user: 1          item: 220        r_ui = nan   est = 0.00   {'was_impossible': False}\n",
      "user: 1          item: 221        r_ui = nan   est = 0.36   {'was_impossible': False}\n",
      "user: 1          item: 222        r_ui = nan   est = 0.04   {'was_impossible': False}\n",
      "user: 1          item: 225        r_ui = nan   est = 0.17   {'was_impossible': False}\n",
      "user: 1          item: 228        r_ui = nan   est = 0.13   {'was_impossible': False}\n",
      "user: 1          item: 229        r_ui = nan   est = 0.20   {'was_impossible': False}\n",
      "user: 1          item: 232        r_ui = nan   est = 0.14   {'was_impossible': False}\n",
      "user: 1          item: 233        r_ui = nan   est = 0.19   {'was_impossible': False}\n",
      "user: 1          item: 239        r_ui = nan   est = 0.19   {'was_impossible': False}\n",
      "user: 1          item: 240        r_ui = nan   est = 0.02   {'was_impossible': False}\n",
      "user: 1          item: 241        r_ui = nan   est = 0.21   {'was_impossible': False}\n",
      "user: 1          item: 242        r_ui = nan   est = 0.31   {'was_impossible': False}\n",
      "user: 1          item: 244        r_ui = nan   est = 0.22   {'was_impossible': False}\n",
      "user: 1          item: 246        r_ui = nan   est = 0.14   {'was_impossible': False}\n",
      "user: 1          item: 247        r_ui = nan   est = 0.16   {'was_impossible': False}\n",
      "user: 1          item: 248        r_ui = nan   est = 0.15   {'was_impossible': False}\n",
      "user: 1          item: 250        r_ui = nan   est = 0.22   {'was_impossible': False}\n",
      "user: 1          item: 252        r_ui = nan   est = 0.29   {'was_impossible': False}\n",
      "user: 1          item: 255        r_ui = nan   est = 0.24   {'was_impossible': False}\n",
      "user: 1          item: 256        r_ui = nan   est = 0.22   {'was_impossible': False}\n",
      "user: 1          item: 257        r_ui = nan   est = 0.18   {'was_impossible': False}\n",
      "user: 1          item: 258        r_ui = nan   est = 0.08   {'was_impossible': False}\n",
      "user: 1          item: 259        r_ui = nan   est = 0.36   {'was_impossible': False}\n",
      "user: 1          item: 261        r_ui = nan   est = 0.05   {'was_impossible': False}\n",
      "user: 1          item: 262        r_ui = nan   est = 0.21   {'was_impossible': False}\n",
      "user: 1          item: 263        r_ui = nan   est = 0.24   {'was_impossible': False}\n",
      "user: 1          item: 264        r_ui = nan   est = 0.17   {'was_impossible': False}\n",
      "user: 1          item: 265        r_ui = nan   est = 0.15   {'was_impossible': False}\n",
      "user: 1          item: 266        r_ui = nan   est = 0.35   {'was_impossible': False}\n",
      "user: 1          item: 267        r_ui = nan   est = 0.20   {'was_impossible': False}\n",
      "user: 1          item: 268        r_ui = nan   est = 0.28   {'was_impossible': False}\n",
      "user: 1          item: 269        r_ui = nan   est = 0.12   {'was_impossible': False}\n",
      "user: 1          item: 270        r_ui = nan   est = 0.34   {'was_impossible': False}\n",
      "user: 1          item: 271        r_ui = nan   est = 0.27   {'was_impossible': False}\n",
      "user: 1          item: 272        r_ui = nan   est = 0.04   {'was_impossible': False}\n",
      "user: 1          item: 273        r_ui = nan   est = 0.08   {'was_impossible': False}\n",
      "user: 1          item: 274        r_ui = nan   est = 0.32   {'was_impossible': False}\n",
      "user: 1          item: 275        r_ui = nan   est = 0.23   {'was_impossible': False}\n",
      "user: 1          item: 276        r_ui = nan   est = 0.32   {'was_impossible': False}\n",
      "user: 1          item: 279        r_ui = nan   est = 0.19   {'was_impossible': False}\n",
      "user: 1          item: 280        r_ui = nan   est = 0.25   {'was_impossible': False}\n",
      "user: 1          item: 281        r_ui = nan   est = 0.17   {'was_impossible': False}\n",
      "user: 1          item: 283        r_ui = nan   est = 0.35   {'was_impossible': False}\n",
      "user: 1          item: 285        r_ui = nan   est = 0.15   {'was_impossible': False}\n",
      "user: 1          item: 286        r_ui = nan   est = 0.32   {'was_impossible': False}\n",
      "user: 1          item: 287        r_ui = nan   est = 0.11   {'was_impossible': False}\n",
      "user: 1          item: 289        r_ui = nan   est = 0.17   {'was_impossible': False}\n",
      "user: 1          item: 291        r_ui = nan   est = 0.29   {'was_impossible': False}\n",
      "user: 1          item: 292        r_ui = nan   est = 0.15   {'was_impossible': False}\n",
      "user: 1          item: 293        r_ui = nan   est = 0.26   {'was_impossible': False}\n",
      "user: 1          item: 294        r_ui = nan   est = 0.45   {'was_impossible': False}\n",
      "user: 1          item: 295        r_ui = nan   est = 0.22   {'was_impossible': False}\n",
      "user: 1          item: 296        r_ui = nan   est = 0.18   {'was_impossible': False}\n",
      "user: 1          item: 298        r_ui = nan   est = 0.26   {'was_impossible': False}\n",
      "user: 1          item: 299        r_ui = nan   est = 0.38   {'was_impossible': False}\n",
      "user: 1          item: 301        r_ui = nan   est = 0.25   {'was_impossible': False}\n",
      "user: 1          item: 303        r_ui = nan   est = 0.38   {'was_impossible': False}\n",
      "user: 1          item: 304        r_ui = nan   est = 0.20   {'was_impossible': False}\n",
      "user: 1          item: 306        r_ui = nan   est = 0.15   {'was_impossible': False}\n",
      "user: 1          item: 307        r_ui = nan   est = 0.34   {'was_impossible': False}\n",
      "user: 1          item: 309        r_ui = nan   est = 0.00   {'was_impossible': False}\n",
      "user: 1          item: 311        r_ui = nan   est = 0.18   {'was_impossible': False}\n",
      "user: 1          item: 312        r_ui = nan   est = 0.15   {'was_impossible': False}\n",
      "user: 1          item: 315        r_ui = nan   est = 0.30   {'was_impossible': False}\n",
      "user: 1          item: 317        r_ui = nan   est = 0.21   {'was_impossible': False}\n",
      "user: 1          item: 321        r_ui = nan   est = 0.29   {'was_impossible': False}\n",
      "user: 1          item: 322        r_ui = nan   est = 0.30   {'was_impossible': False}\n",
      "user: 1          item: 323        r_ui = nan   est = 0.13   {'was_impossible': False}\n",
      "user: 1          item: 324        r_ui = nan   est = 0.22   {'was_impossible': False}\n",
      "user: 1          item: 325        r_ui = nan   est = 0.32   {'was_impossible': False}\n",
      "user: 1          item: 326        r_ui = nan   est = 0.28   {'was_impossible': False}\n",
      "user: 1          item: 328        r_ui = nan   est = 0.09   {'was_impossible': False}\n",
      "user: 1          item: 329        r_ui = nan   est = 0.18   {'was_impossible': False}\n",
      "user: 1          item: 330        r_ui = nan   est = 0.38   {'was_impossible': False}\n",
      "user: 1          item: 331        r_ui = nan   est = 0.39   {'was_impossible': False}\n",
      "user: 1          item: 334        r_ui = nan   est = 0.43   {'was_impossible': False}\n",
      "user: 1          item: 336        r_ui = nan   est = 0.28   {'was_impossible': False}\n",
      "user: 1          item: 338        r_ui = nan   est = 0.28   {'was_impossible': False}\n",
      "user: 1          item: 339        r_ui = nan   est = 0.21   {'was_impossible': False}\n",
      "user: 1          item: 340        r_ui = nan   est = 0.13   {'was_impossible': False}\n",
      "user: 1          item: 341        r_ui = nan   est = 0.19   {'was_impossible': False}\n",
      "user: 1          item: 342        r_ui = nan   est = 0.14   {'was_impossible': False}\n",
      "user: 1          item: 344        r_ui = nan   est = 0.30   {'was_impossible': False}\n",
      "user: 1          item: 345        r_ui = nan   est = 0.32   {'was_impossible': False}\n",
      "user: 1          item: 348        r_ui = nan   est = 0.37   {'was_impossible': False}\n",
      "user: 1          item: 349        r_ui = nan   est = 0.15   {'was_impossible': False}\n",
      "user: 1          item: 354        r_ui = nan   est = 0.27   {'was_impossible': False}\n",
      "user: 1          item: 355        r_ui = nan   est = 0.26   {'was_impossible': False}\n",
      "user: 1          item: 356        r_ui = nan   est = 0.05   {'was_impossible': False}\n",
      "user: 1          item: 357        r_ui = nan   est = 0.19   {'was_impossible': False}\n",
      "user: 1          item: 358        r_ui = nan   est = 0.14   {'was_impossible': False}\n",
      "user: 1          item: 359        r_ui = nan   est = 0.18   {'was_impossible': False}\n",
      "user: 1          item: 360        r_ui = nan   est = 0.14   {'was_impossible': False}\n",
      "user: 1          item: 362        r_ui = nan   est = 0.32   {'was_impossible': False}\n",
      "user: 1          item: 363        r_ui = nan   est = 0.15   {'was_impossible': False}\n",
      "user: 1          item: 365        r_ui = nan   est = 0.38   {'was_impossible': False}\n",
      "user: 1          item: 367        r_ui = nan   est = 0.34   {'was_impossible': False}\n",
      "user: 1          item: 368        r_ui = nan   est = 0.20   {'was_impossible': False}\n",
      "user: 1          item: 370        r_ui = nan   est = 0.06   {'was_impossible': False}\n",
      "user: 1          item: 371        r_ui = nan   est = 0.26   {'was_impossible': False}\n",
      "user: 1          item: 373        r_ui = nan   est = 0.02   {'was_impossible': False}\n",
      "user: 1          item: 374        r_ui = nan   est = 0.35   {'was_impossible': False}\n",
      "user: 1          item: 375        r_ui = nan   est = 0.36   {'was_impossible': False}\n",
      "user: 1          item: 376        r_ui = nan   est = 0.24   {'was_impossible': False}\n",
      "user: 1          item: 377        r_ui = nan   est = 0.19   {'was_impossible': False}\n",
      "user: 1          item: 378        r_ui = nan   est = 0.02   {'was_impossible': False}\n",
      "user: 1          item: 381        r_ui = nan   est = 0.14   {'was_impossible': False}\n",
      "user: 1          item: 382        r_ui = nan   est = 0.27   {'was_impossible': False}\n",
      "user: 1          item: 383        r_ui = nan   est = 0.43   {'was_impossible': False}\n",
      "user: 1          item: 385        r_ui = nan   est = 0.44   {'was_impossible': False}\n"
     ]
    }
   ],
   "source": [
    "# Get predictions for NaN values\n",
    "\n",
    "uids = [data.to_raw_uid(uid) for uid in dataset_zeros['userId']]\n",
    "iids = [data.to_raw_iid(iid) for iid in dataset_zeros['artistId']]\n",
    "r_ui =[r_ui for r_ui in dataset_zeros['freq']]\n",
    "\n",
    "predictions = [(uids[x], iids[x], algo.predict(uids[x], iids[x], r_ui[x], verbose=True)[3]) for x in range(len(dataset_zeros['userId']))]"
   ]
  },
  {
   "cell_type": "code",
   "execution_count": 21,
   "metadata": {},
   "outputs": [
    {
     "name": "stdout",
     "output_type": "stream",
     "text": [
      "[(0, 386, 0.6356989944131264), (0, 387, 0.5412493162101129), (0, 388, 0.3276706037688282), (0, 389, 0.3135833358946023), (0, 390, 0.22597024431264434), (0, 391, 0), (0, 392, 0.4028286073358618), (0, 393, 0), (0, 394, 0.26769101084384217), (0, 395, 0.09628307017009896), (0, 396, 0.10103575266344622), (0, 397, 0.012405806493363869), (0, 398, 0.021683554297411867), (0, 399, 0.19389248228299416), (0, 400, 0.18598129374756645), (0, 401, 0.1741761563772919), (0, 402, 0.21195159330685054), (0, 403, 0.06999748665349848), (0, 404, 0), (0, 405, 0.33120307752502876), (0, 406, 0.20438967011098796), (0, 407, 0.15960930002980156), (0, 408, 0.06676795051813444), (0, 409, 0.23182482215107103), (0, 410, 0.17454832763540518), (0, 411, 0.5186598533850857), (0, 412, 0), (0, 413, 0), (0, 414, 0.22859130747027923), (0, 415, 0.0013987396715977596), (0, 416, 0.15354958122329676), (0, 417, 0.24658127120634088), (0, 418, 0.03682226716176862), (0, 419, 0.12555107105756136), (0, 420, 0.4074334668382382), (0, 421, 0.08803755137032776), (0, 422, 0), (0, 423, 0.22265320682160472), (0, 424, 0.3285790314255941), (0, 425, 0), (0, 426, 0.3002744420332448), (0, 427, 0.019860516713712695), (0, 428, 0.09746375235768046), (0, 429, 0.3831134992376286), (0, 430, 0.3678372996852095), (0, 431, 0.1431012200009767), (0, 432, 0.30428837076851445), (0, 433, 0), (0, 434, 0.07733881253571817), (0, 435, 0.04740334692380643), (0, 436, 0), (0, 437, 0.28906761788331536), (0, 438, 0.002161837788657861), (0, 439, 0.40732029698211347), (0, 440, 0.14235521273134655), (0, 441, 0.26351988586786956), (0, 442, 0.20123236995701288), (0, 443, 0.08063707408379384), (0, 444, 0.4031217964576237), (0, 445, 0.1434635074937587), (0, 446, 0), (0, 447, 0.11240609657087974), (0, 448, 0.0786218394348166), (0, 449, 0), (0, 450, 0.06597122453790272), (0, 451, 0.17717721876576675), (0, 452, 0.0820688078559646), (0, 453, 0.2946080482672735), (0, 454, 0), (0, 455, 0.031412854334912144), (0, 456, 0.2056633219878099), (0, 457, 0.16452710189036956), (0, 458, 0.31817754363437034), (0, 459, 0), (0, 460, 0.036430786766492584), (0, 461, 0.12057319041676728), (0, 462, 0.1896947320971989), (0, 463, 0.24355233130499232), (0, 464, 0), (0, 465, 0.12684847526802234), (0, 466, 0.03673413889655586), (0, 467, 0.02073069123741722), (0, 468, 0), (0, 469, 0.23904172326349804), (0, 470, 0.088170170833753), (0, 471, 0), (0, 472, 0.3381998246374598), (0, 473, 0.025422422841367753), (0, 474, 0), (0, 475, 0.10321786657991416), (0, 476, 0), (0, 477, 0.327578810520438), (0, 478, 0.4215671310281912), (0, 479, 0.2844772928564996), (0, 480, 0.22009083347521874), (0, 481, 0.17091618709285084), (0, 482, 0.02185872541589351), (0, 483, 0.23738388667225974), (0, 484, 0.06121125971122421), (0, 485, 0), (0, 486, 0), (0, 487, 0.42260909011988956), (0, 488, 0.2571552355278357), (0, 489, 0), (0, 490, 0.07836613341840981), (0, 491, 0.13517685829119763), (0, 492, 0.5811033787107405), (0, 493, 0.10136201400470846), (0, 494, 0.14752385442913152), (0, 495, 0.3010032939138114), (0, 496, 0.2866462955005118), (0, 497, 0.0993197023446637), (0, 498, 0.21473973982438443), (0, 499, 0.2465627920481399), (0, 500, 0.20558382700722855), (0, 501, 0.15700135114728075), (0, 502, 0.1948580711588077), (0, 503, 0.23269577282739218), (0, 504, 0.2274923476285189), (0, 505, 0.27334053573420625), (0, 506, 0.2577429701557077), (0, 507, 0.17020472119147834), (0, 508, 0), (0, 509, 0.13136548794713554), (0, 510, 0.2831154512892793), (0, 511, 0.12499610615469225), (0, 512, 0.223709701059023), (0, 513, 0.0728406478319672), (0, 514, 0), (0, 515, 0.18212588031134236), (0, 516, 0.34624935666387646), (0, 517, 0.09180860182518402), (0, 518, 0), (0, 519, 0.4943920740996379), (0, 520, 0.23164619309053358), (0, 521, 0.22430719029770074), (0, 522, 0.13498048054982137), (0, 523, 0.14836999098154524), (0, 524, 0.26961097722793137), (0, 525, 0.12509107126458008), (0, 526, 0.1304598242452888), (0, 527, 0), (0, 528, 0.023091356146109243), (0, 529, 0.1809879677401136), (0, 530, 0.33220216106224143), (0, 531, 0.22349499432648168), (0, 532, 0.27318541626046855), (0, 533, 0), (0, 534, 0.4160230761508743), (0, 535, 0.10351882462783468), (1, 4, 0.7637453133642242), (1, 6, 0.42382868409363983), (1, 11, 0.402949943021065), (1, 13, 0.3887602886862236), (1, 15, 0.38826094667444), (1, 20, 0.2715678482842341), (1, 33, 0.4297033451139636), (1, 40, 0.15214827204317172), (1, 41, 0), (1, 44, 0.40326460723745683), (1, 52, 0.12020821811323779), (1, 54, 0.13227761581740305), (1, 56, 0.26310973822729933), (1, 61, 0.23503061031741268), (1, 63, 0.3493349292949184), (1, 65, 0.42058915940855046), (1, 70, 0.26187031303344743), (1, 72, 0.31307162660193666), (1, 74, 0.17386728518305627), (1, 76, 0.09712101051724664), (1, 77, 0.2671133184879664), (1, 79, 0.24379760404395046), (1, 82, 0.08148671105895433), (1, 83, 0.22538962690375142), (1, 84, 0.0742195581188898), (1, 85, 0.26125711422998465), (1, 86, 0.08863064495161521), (1, 87, 0.33328305291773774), (1, 92, 0.2581822487716614), (1, 93, 0.11485137696715264), (1, 95, 0.2587547209237635), (1, 97, 0.0703417146533456), (1, 98, 0.2726623682868281), (1, 100, 0.13736099501974186), (1, 104, 0.2317280278482099), (1, 105, 0.302164859918554), (1, 107, 0.17447496490594583), (1, 108, 0.269902604602936), (1, 110, 0), (1, 111, 0.2798629678041049), (1, 112, 0.17339873153870444), (1, 113, 0.05159327311069939), (1, 114, 0.2534628333761695), (1, 115, 0.061170818005821026), (1, 116, 0.3369129208079029), (1, 117, 0.3314162276435788), (1, 118, 0.05568866543910045), (1, 119, 0.21359770223298646), (1, 123, 0.16003502366533362), (1, 124, 0.2222313272649592), (1, 125, 0.18022015749967069), (1, 126, 0.12134266172989405), (1, 128, 0.3509391723044981), (1, 129, 0.14184199225242744), (1, 130, 0.26530322442099563), (1, 131, 0.20206668804322891), (1, 132, 0.3541741736115964), (1, 135, 0.28509851949588194), (1, 137, 0.16983340569530303), (1, 138, 0.10667082276597695), (1, 141, 0.1576324470378796), (1, 142, 0.09172491731197141), (1, 143, 0.15049944305653717), (1, 145, 0.18988857716800234), (1, 146, 0.48488755718518606), (1, 147, 0.3937918630121944), (1, 148, 0.3352422137148017), (1, 151, 0.2024369791329661), (1, 152, 0.12353517352249166), (1, 153, 0.2213727489239059), (1, 154, 0), (1, 155, 0.16847845273222983), (1, 156, 0), (1, 157, 0.03211182532435952), (1, 158, 0.2550045890929038), (1, 159, 0.0753026030929651), (1, 160, 0.22019790277008755), (1, 162, 0), (1, 163, 0.20098881457139206), (1, 164, 0.07709336885959184), (1, 166, 0.19895739018700964), (1, 169, 0.11860449252384542), (1, 173, 0.23704058352079116), (1, 176, 0.3906570030601715), (1, 180, 0.40450615256729416), (1, 183, 0.2927264928357456), (1, 187, 0.3316130456781199), (1, 188, 0.15362317681110627), (1, 189, 0.4265497477806943), (1, 190, 0.0037100480274960823), (1, 191, 0.38299624815792543), (1, 192, 0.2167067930451978), (1, 194, 0.18428647012885535), (1, 195, 0.41835137393009103), (1, 196, 0.3414993972231348), (1, 197, 0.2907246228959588), (1, 198, 0.1809153785890094), (1, 199, 0.36668912333547166), (1, 201, 0.33853002605686067), (1, 203, 0.10877486722120278), (1, 204, 0.21199584678706196), (1, 205, 0.005621818481042817), (1, 206, 0.17270402890276215), (1, 207, 0.3929222016591114), (1, 208, 0.21530634364817125), (1, 209, 0.1392132281645435), (1, 211, 0.09032486077114932), (1, 212, 0.1276861593206866), (1, 213, 0.12755380652694148), (1, 214, 0.18854511888712944), (1, 215, 0.3738594088948959), (1, 216, 0.12005060252328681), (1, 217, 0), (1, 219, 0.4615551526307189), (1, 220, 0.0037687729992603725), (1, 221, 0.3620722680305548), (1, 222, 0.03871204367779835), (1, 225, 0.17289099762403537), (1, 228, 0.13115962104669499), (1, 229, 0.19876943300191563), (1, 232, 0.1447864194561912), (1, 233, 0.19179924708967366), (1, 239, 0.18529698519883175), (1, 240, 0.021091029967619912), (1, 241, 0.20749817260799985), (1, 242, 0.3124967834842496), (1, 244, 0.22179563137053293), (1, 246, 0.137595733119652), (1, 247, 0.16451848548916348), (1, 248, 0.14578293162923073), (1, 250, 0.21742070583145812), (1, 252, 0.29325652213023923), (1, 255, 0.23931635956648223), (1, 256, 0.2224102751073871), (1, 257, 0.17522604410139464), (1, 258, 0.08419397137194107), (1, 259, 0.3601081299680773), (1, 261, 0.0482283685011724), (1, 262, 0.21056069863961357), (1, 263, 0.24224417224324624), (1, 264, 0.16966014134226648), (1, 265, 0.1461598525728416), (1, 266, 0.34716161994409234), (1, 267, 0.20265730762112888), (1, 268, 0.2753100207881536), (1, 269, 0.12480980990270063), (1, 270, 0.3417038853606067), (1, 271, 0.27178860103625535), (1, 272, 0.04321863225711242), (1, 273, 0.07794363539784621), (1, 274, 0.3198515889331486), (1, 275, 0.23135945086798482), (1, 276, 0.31826823206690746), (1, 279, 0.18850210547078694), (1, 280, 0.2514273120389192), (1, 281, 0.17238005761680286), (1, 283, 0.35065432709429567), (1, 285, 0.15482759177972727), (1, 286, 0.3223232767219335), (1, 287, 0.11109183486196139), (1, 289, 0.16625230200345809), (1, 291, 0.2947227318258747), (1, 292, 0.15185331082576203), (1, 293, 0.2569513691530012), (1, 294, 0.44823223400024337), (1, 295, 0.21689835636282528), (1, 296, 0.17705725310535114), (1, 298, 0.26423995887443885), (1, 299, 0.377190453233887), (1, 301, 0.24772979243406157), (1, 303, 0.3761961641664855), (1, 304, 0.2034833001858043), (1, 306, 0.14958354965138154), (1, 307, 0.3377009968952662), (1, 309, 0), (1, 311, 0.17954735014386003), (1, 312, 0.14513516543483895), (1, 315, 0.3023937815991167), (1, 317, 0.2124911213310552), (1, 321, 0.28534055169994743), (1, 322, 0.29908032141530594), (1, 323, 0.13061708337061773), (1, 324, 0.2247523046272939), (1, 325, 0.32458669825097086), (1, 326, 0.27732057587997727), (1, 328, 0.08958025868709862), (1, 329, 0.17826359007199866), (1, 330, 0.377646117795329), (1, 331, 0.39169618379507876), (1, 334, 0.434520445111372), (1, 336, 0.2843824703100464), (1, 338, 0.28172728964532756), (1, 339, 0.21078517850452094), (1, 340, 0.13149015497798122), (1, 341, 0.18519961027630694), (1, 342, 0.1417742231065695), (1, 344, 0.3015633930902144), (1, 345, 0.32198136551167034), (1, 348, 0.37361657686807415), (1, 349, 0.15296763261315793), (1, 354, 0.27250792393789625), (1, 355, 0.2624748523462108), (1, 356, 0.05448539309160938), (1, 357, 0.18997053828065802), (1, 358, 0.13950699520691878), (1, 359, 0.18358269723609566), (1, 360, 0.13673863237769446), (1, 362, 0.31747599752621847), (1, 363, 0.15359995573630814), (1, 365, 0.3841455015906967), (1, 367, 0.3384259618718195), (1, 368, 0.19566060520556272), (1, 370, 0.06099720184127322), (1, 371, 0.26465834548675216), (1, 373, 0.024605706252087467), (1, 374, 0.3463965657755075), (1, 375, 0.3600925673089084), (1, 376, 0.24386221144487163), (1, 377, 0.19323480384278935), (1, 378, 0.021104984644594538), (1, 381, 0.13598172058187163), (1, 382, 0.2730677160875039), (1, 383, 0.4318775072089682), (1, 385, 0.4387083904224811)]\n"
     ]
    }
   ],
   "source": [
    "print(predictions)"
   ]
  },
  {
   "cell_type": "code",
   "execution_count": 40,
   "metadata": {},
   "outputs": [
    {
     "name": "stdout",
     "output_type": "stream",
     "text": [
      "     userId  artistId      freq\n",
      "0         0         0  8.224480\n",
      "1         0         1  7.789066\n",
      "2         0         2  6.773101\n",
      "3         0         3  6.627963\n",
      "4         0         4  4.547654\n",
      "..      ...       ...       ...\n",
      "531       1       531  0.048379\n",
      "532       1       532  0.048379\n",
      "533       1       533  0.048379\n",
      "534       1       534  0.048379\n",
      "535       1       535  0.048379\n",
      "\n",
      "[698 rows x 3 columns]\n",
      "     userId  artistId      freq\n",
      "0         0       386  0.635699\n",
      "1         0       387  0.541249\n",
      "2         0       388  0.327671\n",
      "3         0       389  0.313583\n",
      "4         0       390  0.225970\n",
      "..      ...       ...       ...\n",
      "369       1       378  0.021105\n",
      "370       1       381  0.135982\n",
      "371       1       382  0.273068\n",
      "372       1       383  0.431878\n",
      "373       1       385  0.438708\n",
      "\n",
      "[374 rows x 3 columns]\n",
      "      userId  artistId      freq\n",
      "0          0         0  8.224480\n",
      "1          0         1  7.789066\n",
      "2          0         2  6.773101\n",
      "3          0         3  6.627963\n",
      "4          0         4  4.547654\n",
      "...      ...       ...       ...\n",
      "1067       1       378  0.021105\n",
      "1068       1       381  0.135982\n",
      "1069       1       382  0.273068\n",
      "1070       1       383  0.431878\n",
      "1071       1       385  0.438708\n",
      "\n",
      "[1072 rows x 3 columns]\n"
     ]
    }
   ],
   "source": [
    "# merge NaN values in original dataset with predicted values\n",
    "\n",
    "predicted_df = pd.DataFrame(predictions, columns=['userId', 'artistId', 'freq'])\n",
    "\n",
    "# dataset['freq'] = dataset[(dataset['userId'] == predicted_df['userId'] & dataset['artistId'] == predicted_df['artistId'])['freq']]\n",
    "\n",
    "\n",
    "\n",
    "# dataset_no_zeros = dataset_no_zeros.drop(columns='userId')\n",
    "# predicted_df = predicted_df.drop(columns='userId')\n",
    "\n",
    "print(dataset_no_zeros)\n",
    "print(predicted_df)\n",
    "\n",
    "#final_vectors = pd.merge(dataset_no_zeros, predicted_df, on=['artistId'], how='inner')\n",
    "#final_vectors = dataset_no_zeros.join(predicted_df, on='artistId')\n",
    "final_vectors = pd.concat([dataset_no_zeros, predicted_df], ignore_index=True, sort=False)\n",
    "print(final_vectors)"
   ]
  },
  {
   "cell_type": "code",
   "execution_count": 47,
   "metadata": {},
   "outputs": [
    {
     "name": "stdout",
     "output_type": "stream",
     "text": [
      "0      8.224480\n",
      "1      7.789066\n",
      "2      6.773101\n",
      "3      6.627963\n",
      "4      4.547654\n",
      "         ...   \n",
      "843    0.223495\n",
      "844    0.273185\n",
      "845    0.000000\n",
      "846    0.416023\n",
      "847    0.103519\n",
      "Name: freq, Length: 536, dtype: float64\n",
      "386     4.934688\n",
      "387     0.290276\n",
      "388     1.161103\n",
      "389     1.838413\n",
      "390     2.757620\n",
      "          ...   \n",
      "1067    0.021105\n",
      "1068    0.135982\n",
      "1069    0.273068\n",
      "1070    0.431878\n",
      "1071    0.438708\n",
      "Name: freq, Length: 536, dtype: float64\n"
     ]
    }
   ],
   "source": [
    "user_1_vector = final_vectors[final_vectors['userId'] == 0]['freq']\n",
    "user_2_vector = final_vectors[final_vectors['userId'] == 1]['freq']\n",
    "\n",
    "print(user_1_vector)\n",
    "print(user_2_vector)"
   ]
  },
  {
   "cell_type": "code",
   "execution_count": 49,
   "metadata": {},
   "outputs": [],
   "source": [
    "from scipy.spatial.distance import cosine"
   ]
  },
  {
   "cell_type": "code",
   "execution_count": 50,
   "metadata": {},
   "outputs": [
    {
     "name": "stdout",
     "output_type": "stream",
     "text": [
      "0.5319256042324694\n"
     ]
    }
   ],
   "source": [
    "user_similarity = cosine(user_1_vector, user_2_vector)\n",
    "print(user_similarity)"
   ]
  },
  {
   "cell_type": "code",
   "execution_count": null,
   "metadata": {},
   "outputs": [],
   "source": []
  }
 ],
 "metadata": {
  "kernelspec": {
   "display_name": "Python 3",
   "language": "python",
   "name": "python3"
  },
  "language_info": {
   "codemirror_mode": {
    "name": "ipython",
    "version": 3
   },
   "file_extension": ".py",
   "mimetype": "text/x-python",
   "name": "python",
   "nbconvert_exporter": "python",
   "pygments_lexer": "ipython3",
   "version": "3.7.4"
  }
 },
 "nbformat": 4,
 "nbformat_minor": 2
}
