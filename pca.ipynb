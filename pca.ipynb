{
 "cells": [
  {
   "cell_type": "code",
   "execution_count": 1,
   "metadata": {},
   "outputs": [],
   "source": [
    "import numpy as np\n",
    "import pandas as pd"
   ]
  },
  {
   "cell_type": "code",
   "execution_count": 49,
   "metadata": {},
   "outputs": [],
   "source": [
    "# Read in JSON into dataframe\n",
    "df = pd.read_json('StreamingHistory.json')"
   ]
  },
  {
   "cell_type": "code",
   "execution_count": 50,
   "metadata": {},
   "outputs": [],
   "source": [
    "# Concatenate artist and song names with comma seperation and drop old columns\n",
    "df['artist_song'] = df['artistName'] + ',' + df['trackName']\n",
    "df = df.drop(columns=['artistName', 'trackName'])"
   ]
  },
  {
   "cell_type": "code",
   "execution_count": 51,
   "metadata": {},
   "outputs": [
    {
     "name": "stdout",
     "output_type": "stream",
     "text": [
      "0              Chance the Rapper,I Might Need Security\n",
      "1       MadeinTYO,Uber Everywhere (feat. Travis Scott)\n",
      "2                  The Jungle Giants,Feel the Way I Do\n",
      "3                             The Hives,Blood Red Moon\n",
      "4                           The Kooks,Four Leaf Clover\n",
      "                             ...                      \n",
      "4129                  Miguel,waves - Tame Impala Remix\n",
      "4130                   Fishmans,Hikkurikaetteta Futari\n",
      "4131                   K. Roosevelt,Blinding My Vision\n",
      "4132                        BOOGIE T.RIO,Mind A Racin'\n",
      "4133                                 Flying Lotus,More\n",
      "Name: artist_song, Length: 4134, dtype: object\n"
     ]
    }
   ],
   "source": [
    "print(df['artist_song'])"
   ]
  },
  {
   "cell_type": "code",
   "execution_count": 77,
   "metadata": {},
   "outputs": [],
   "source": [
    "# oneHotEncode the nominal catagorical data\n",
    "df = pd.get_dummies(df['artist_song'])"
   ]
  },
  {
   "cell_type": "code",
   "execution_count": 78,
   "metadata": {},
   "outputs": [
    {
     "name": "stdout",
     "output_type": "stream",
     "text": [
      "      070 Shake,Nice To Have  2 Chainz,I Said Me  2 Chainz,It's A Vibe  \\\n",
      "0                          0                   0                     0   \n",
      "1                          0                   0                     0   \n",
      "2                          0                   0                     0   \n",
      "3                          0                   0                     0   \n",
      "4                          0                   0                     0   \n",
      "...                      ...                 ...                   ...   \n",
      "4129                       0                   0                     0   \n",
      "4130                       0                   0                     0   \n",
      "4131                       0                   0                     0   \n",
      "4132                       0                   0                     0   \n",
      "4133                       0                   0                     0   \n",
      "\n",
      "      2 Chainz,Like Me  2 Chainz,Riot  \\\n",
      "0                    0              0   \n",
      "1                    0              0   \n",
      "2                    0              0   \n",
      "3                    0              0   \n",
      "4                    0              0   \n",
      "...                ...            ...   \n",
      "4129                 0              0   \n",
      "4130                 0              0   \n",
      "4131                 0              0   \n",
      "4132                 0              0   \n",
      "4133                 0              0   \n",
      "\n",
      "      6LACK,Balenciaga Challenge (feat. Offset)  6LACK,Let Her Go  6LACK,Stan  \\\n",
      "0                                             0                 0           0   \n",
      "1                                             0                 0           0   \n",
      "2                                             0                 0           0   \n",
      "3                                             0                 0           0   \n",
      "4                                             0                 0           0   \n",
      "...                                         ...               ...         ...   \n",
      "4129                                          0                 0           0   \n",
      "4130                                          0                 0           0   \n",
      "4131                                          0                 0           0   \n",
      "4132                                          0                 0           0   \n",
      "4133                                          0                 0           0   \n",
      "\n",
      "      6ix9ine,FEFE  A Boogie Wit da Hoodie,Swervin (feat. 6ix9ine)  ...  \\\n",
      "0                0                                               0  ...   \n",
      "1                0                                               0  ...   \n",
      "2                0                                               0  ...   \n",
      "3                0                                               0  ...   \n",
      "4                0                                               0  ...   \n",
      "...            ...                                             ...  ...   \n",
      "4129             0                                               0  ...   \n",
      "4130             0                                               0  ...   \n",
      "4131             0                                               0  ...   \n",
      "4132             0                                               0  ...   \n",
      "4133             0                                               0  ...   \n",
      "\n",
      "      emune,Puffin'  ford.,Bedford Falls  ford.,Warmth  \\\n",
      "0                 0                    0             0   \n",
      "1                 0                    0             0   \n",
      "2                 0                    0             0   \n",
      "3                 0                    0             0   \n",
      "4                 0                    0             0   \n",
      "...             ...                  ...           ...   \n",
      "4129              0                    0             0   \n",
      "4130              0                    0             0   \n",
      "4131              0                    0             0   \n",
      "4132              0                    0             0   \n",
      "4133              0                    0             0   \n",
      "\n",
      "      girl in red,we fell in love in october  half•alive,still feel.  \\\n",
      "0                                          0                       0   \n",
      "1                                          0                       0   \n",
      "2                                          0                       0   \n",
      "3                                          0                       0   \n",
      "4                                          0                       0   \n",
      "...                                      ...                     ...   \n",
      "4129                                       0                       0   \n",
      "4130                                       0                       0   \n",
      "4131                                       0                       0   \n",
      "4132                                       0                       0   \n",
      "4133                                       0                       0   \n",
      "\n",
      "      ilo ilo,come over  slenderbodies,gray  slenderbodies,take you home  \\\n",
      "0                     0                   0                            0   \n",
      "1                     0                   0                            0   \n",
      "2                     0                   0                            0   \n",
      "3                     0                   0                            0   \n",
      "4                     0                   0                            0   \n",
      "...                 ...                 ...                          ...   \n",
      "4129                  0                   0                            0   \n",
      "4130                  0                   0                            0   \n",
      "4131                  0                   0                            0   \n",
      "4132                  0                   0                            0   \n",
      "4133                  0                   0                            0   \n",
      "\n",
      "      underscores,feather  zack villere,Sand People  \n",
      "0                       0                         0  \n",
      "1                       0                         0  \n",
      "2                       0                         0  \n",
      "3                       0                         0  \n",
      "4                       0                         0  \n",
      "...                   ...                       ...  \n",
      "4129                    0                         0  \n",
      "4130                    0                         0  \n",
      "4131                    0                         0  \n",
      "4132                    0                         0  \n",
      "4133                    0                         0  \n",
      "\n",
      "[4134 rows x 2010 columns]\n"
     ]
    }
   ],
   "source": []
  },
  {
   "cell_type": "code",
   "execution_count": null,
   "metadata": {},
   "outputs": [],
   "source": []
  }
 ],
 "metadata": {
  "kernelspec": {
   "display_name": "Python 3",
   "language": "python",
   "name": "python3"
  },
  "language_info": {
   "codemirror_mode": {
    "name": "ipython",
    "version": 3
   },
   "file_extension": ".py",
   "mimetype": "text/x-python",
   "name": "python",
   "nbconvert_exporter": "python",
   "pygments_lexer": "ipython3",
   "version": "3.7.4"
  }
 },
 "nbformat": 4,
 "nbformat_minor": 2
}
