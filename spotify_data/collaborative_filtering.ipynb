{
 "cells": [
  {
   "cell_type": "code",
   "execution_count": 1,
   "metadata": {},
   "outputs": [],
   "source": [
    "import numpy as np\n",
    "import pandas as pd"
   ]
  },
  {
   "cell_type": "code",
   "execution_count": 3,
   "metadata": {},
   "outputs": [],
   "source": [
    "# Read in JSON into dataframe\n",
    "df = pd.read_json('StreamingHistory.json')"
   ]
  },
  {
   "cell_type": "code",
   "execution_count": 4,
   "metadata": {},
   "outputs": [],
   "source": [
    "# get number of rows\n",
    "half_rows = df['artistName'].count() / 2"
   ]
  },
  {
   "cell_type": "code",
   "execution_count": 5,
   "metadata": {},
   "outputs": [],
   "source": [
    "# drop all columns besides artistNames\n",
    "df = df.drop(columns=['trackName', 'endTime', 'msPlayed'])"
   ]
  },
  {
   "cell_type": "code",
   "execution_count": 6,
   "metadata": {},
   "outputs": [],
   "source": [
    "# split into 2 dfs\n",
    "df1, df2 = np.split(df, [int(half_rows)], axis=0)"
   ]
  },
  {
   "cell_type": "code",
   "execution_count": 7,
   "metadata": {},
   "outputs": [
    {
     "name": "stdout",
     "output_type": "stream",
     "text": [
      "                            artistName      freq\n",
      "0                                Flume  0.082245\n",
      "1                         Janis Joplin  0.077891\n",
      "2                             Jai Wolf  0.067731\n",
      "3                                 GRiZ  0.066280\n",
      "4    Big Brother & The Holding Company  0.045477\n",
      "..                                 ...       ...\n",
      "381                               Cozz  0.000484\n",
      "382                         The Police  0.000484\n",
      "383                        The Beatles  0.000484\n",
      "384                              Cults  0.000484\n",
      "385                          The-Dream  0.000484\n",
      "\n",
      "[386 rows x 2 columns]\n",
      "----------------------\n",
      "          artistName      freq\n",
      "0         Kanye West  0.061925\n",
      "1    Johannes Brahms  0.050798\n",
      "2              Flume  0.049347\n",
      "3    Vampire Weekend  0.048379\n",
      "4           Big Wild  0.044509\n",
      "..               ...       ...\n",
      "307      The Strokes  0.000484\n",
      "308    Booty&theKidd  0.000484\n",
      "309            Arlie  0.000484\n",
      "310     Good Morning  0.000484\n",
      "311  The Mary Nixons  0.000484\n",
      "\n",
      "[312 rows x 2 columns]\n"
     ]
    }
   ],
   "source": [
    "# generate 2 dataframes with unique artists and their frequencies\n",
    "df1_unique_freq = df1['artistName'].value_counts(normalize=True).rename_axis('artistName').reset_index(name='freq')\n",
    "df2_unique_freq = df2['artistName'].value_counts(normalize=True).rename_axis('artistName').reset_index(name='freq')\n",
    "\n",
    "print(df1_unique_freq)\n",
    "print('----------------------')\n",
    "print(df2_unique_freq)"
   ]
  },
  {
   "cell_type": "code",
   "execution_count": 8,
   "metadata": {},
   "outputs": [],
   "source": [
    "# create ndarray of all unique artists from both dfs\n",
    "full_unique = pd.Series.append(df1_unique_freq['artistName'], df2_unique_freq['artistName']).unique()"
   ]
  },
  {
   "cell_type": "code",
   "execution_count": 60,
   "metadata": {},
   "outputs": [
    {
     "name": "stdout",
     "output_type": "stream",
     "text": [
      "                            artistName    freq_x  \\\n",
      "0                                Flume  0.082245   \n",
      "1                         Janis Joplin  0.077891   \n",
      "2                             Jai Wolf  0.067731   \n",
      "3                                 GRiZ  0.066280   \n",
      "4    Big Brother & The Holding Company  0.045477   \n",
      "..                                 ...       ...   \n",
      "531                         Miike Snow  0.000000   \n",
      "532               Ludwig van Beethoven  0.000000   \n",
      "533                      Booty&theKidd  0.000000   \n",
      "534                              Arlie  0.000000   \n",
      "535                    The Mary Nixons  0.000000   \n",
      "\n",
      "                             artisName                    artistName_full  \\\n",
      "0                                Flume                              Flume   \n",
      "1                         Janis Joplin                       Janis Joplin   \n",
      "2                             Jai Wolf                           Jai Wolf   \n",
      "3                                 GRiZ                               GRiZ   \n",
      "4    Big Brother & The Holding Company  Big Brother & The Holding Company   \n",
      "..                                 ...                                ...   \n",
      "531                                  0                                  0   \n",
      "532                                  0                                  0   \n",
      "533                                  0                                  0   \n",
      "534                                  0                                  0   \n",
      "535                                  0                                  0   \n",
      "\n",
      "       freq_y  \n",
      "0    0.049347  \n",
      "1    0.002903  \n",
      "2    0.011611  \n",
      "3    0.018384  \n",
      "4    0.000000  \n",
      "..        ...  \n",
      "531  0.000484  \n",
      "532  0.000484  \n",
      "533  0.000484  \n",
      "534  0.000484  \n",
      "535  0.000484  \n",
      "\n",
      "[536 rows x 5 columns]\n"
     ]
    }
   ],
   "source": [
    "# # create dataframe with combined unique artists and frequencies with NaN values filled with 0\n",
    "test = pd.merge(df1_unique_freq, df2_unique_freq, on=\"artistName\", how=\"outer\").fillna(0)\n",
    "print(test)"
   ]
  },
  {
   "cell_type": "code",
   "execution_count": 76,
   "metadata": {
    "scrolled": true
   },
   "outputs": [
    {
     "name": "stdout",
     "output_type": "stream",
     "text": [
      "     userId  artistId      freq\n",
      "0         0         0  0.082245\n",
      "1         0         1  0.077891\n",
      "2         0         2  0.067731\n",
      "3         0         3  0.066280\n",
      "4         0         4  0.045477\n",
      "..      ...       ...       ...\n",
      "531       1       531  0.000484\n",
      "532       1       532  0.000484\n",
      "533       1       533  0.000484\n",
      "534       1       534  0.000484\n",
      "535       1       535  0.000484\n",
      "\n",
      "[1072 rows x 3 columns]\n"
     ]
    }
   ],
   "source": [
    "# Construct final dataset\n",
    "df_x = pd.DataFrame.from_dict({ 'userId' : [0 for i in range(test['artistName'].size)], 'artistId' : [i for i in range(test['artistName'].size)], 'freq' : test['freq_x']})\n",
    "df_y = pd.DataFrame.from_dict({ 'userId' : [1 for i in range(test['artistName'].size)], 'artistId' : [i for i in range(test['artistName'].size)], 'freq' : test['freq_y']})\n",
    "dataset = pd.DataFrame.append(df_x, df_y)\n",
    "print(dataset)"
   ]
  },
  {
   "cell_type": "code",
   "execution_count": 88,
   "metadata": {},
   "outputs": [
    {
     "name": "stdout",
     "output_type": "stream",
     "text": [
      "     userId  artistId      freq\n",
      "0         0         0  0.082245\n",
      "1         0         1  0.077891\n",
      "2         0         2  0.067731\n",
      "3         0         3  0.066280\n",
      "4         0         4  0.045477\n",
      "..      ...       ...       ...\n",
      "531       1       531  0.000484\n",
      "532       1       532  0.000484\n",
      "533       1       533  0.000484\n",
      "534       1       534  0.000484\n",
      "535       1       535  0.000484\n",
      "\n",
      "[698 rows x 3 columns]\n"
     ]
    }
   ],
   "source": [
    "dataset_no_zeros = dataset[dataset['freq'] != 0]\n",
    "dataset_zeros = dataset[dataset['freq'] != 0]\n",
    "print(dataset_no_zeros)"
   ]
  },
  {
   "cell_type": "code",
   "execution_count": 66,
   "metadata": {},
   "outputs": [],
   "source": [
    "from surprise import Reader, Dataset"
   ]
  },
  {
   "cell_type": "code",
   "execution_count": 97,
   "metadata": {},
   "outputs": [],
   "source": [
    "# import data into suprise dataset\n",
    "reader = Reader()\n",
    "\n",
    "data_no_zeros = Dataset.load_from_df(dataset_no_zeros[['userId', 'artistId', 'freq']], reader)"
   ]
  },
  {
   "cell_type": "code",
   "execution_count": 102,
   "metadata": {},
   "outputs": [
    {
     "name": "stdout",
     "output_type": "stream",
     "text": [
      "[(1, 68, 0.0009675858732462506), (0, 81, 0.001451378809869376), (1, 420, 0.001451378809869376), (0, 145, 0.0009675858732462506), (0, 119, 0.0009675858732462506), (0, 159, 0.0009675858732462506), (1, 196, 0.0004837929366231253), (1, 422, 0.001451378809869376), (1, 509, 0.0004837929366231253), (0, 334, 0.0004837929366231253), (0, 235, 0.0004837929366231253), (0, 222, 0.0004837929366231253), (0, 237, 0.0004837929366231253), (0, 306, 0.0004837929366231253), (1, 500, 0.0004837929366231253), (0, 15, 0.012094823415578132), (0, 228, 0.0004837929366231253), (0, 259, 0.0004837929366231253), (0, 308, 0.0004837929366231253), (0, 57, 0.0019351717464925011), (1, 92, 0.0019351717464925011), (0, 111, 0.0009675858732462506), (0, 8, 0.02467343976777939), (0, 330, 0.0004837929366231253), (1, 36, 0.004837929366231253), (1, 239, 0.0004837929366231253), (1, 459, 0.0009675858732462506), (1, 431, 0.0009675858732462506), (1, 302, 0.0019351717464925011), (0, 20, 0.006289308176100629), (0, 223, 0.0004837929366231253), (1, 386, 0.033865505563618774), (0, 49, 0.002902757619738752), (1, 427, 0.001451378809869376), (0, 85, 0.001451378809869376), (1, 100, 0.0019351717464925011), (0, 7, 0.029511369134010642), (0, 321, 0.0004837929366231253), (0, 239, 0.0004837929366231253), (0, 364, 0.0004837929366231253), (1, 111, 0.0019351717464925011), (1, 399, 0.0024189646831156266), (1, 450, 0.0009675858732462506), (0, 337, 0.0004837929366231253), (1, 510, 0.0004837929366231253), (0, 355, 0.0004837929366231253), (0, 252, 0.0004837929366231253), (0, 210, 0.0004837929366231253), (1, 231, 0.002902757619738752), (1, 423, 0.001451378809869376), (1, 424, 0.001451378809869376), (0, 177, 0.0009675858732462506), (1, 153, 0.005805515239477504), (0, 12, 0.01741654571843251), (0, 251, 0.0004837929366231253), (0, 379, 0.0004837929366231253), (1, 17, 0.00725689404934688), (1, 348, 0.0009675858732462506), (0, 331, 0.0004837929366231253), (1, 243, 0.0004837929366231253), (1, 298, 0.0004837929366231253), (0, 291, 0.0004837929366231253), (1, 195, 0.0004837929366231253), (1, 454, 0.0009675858732462506), (0, 356, 0.0004837929366231253), (1, 465, 0.0009675858732462506), (0, 155, 0.0009675858732462506), (1, 475, 0.0004837929366231253), (1, 533, 0.0004837929366231253), (0, 278, 0.0004837929366231253), (1, 75, 0.0009675858732462506), (0, 90, 0.001451378809869376), (0, 11, 0.018384131591678763), (0, 368, 0.0004837929366231253), (1, 1, 0.002902757619738752), (1, 413, 0.001451378809869376), (0, 178, 0.0009675858732462506), (0, 316, 0.0004837929366231253), (0, 287, 0.0004837929366231253), (1, 535, 0.0004837929366231253), (0, 227, 0.0004837929366231253), (0, 332, 0.0004837929366231253), (1, 472, 0.0004837929366231253), (1, 393, 0.003386550556361877), (1, 33, 0.0024189646831156266), (1, 516, 0.0004837929366231253), (0, 374, 0.0004837929366231253), (0, 249, 0.0004837929366231253), (1, 0, 0.04934687953555878), (1, 402, 0.0019351717464925011), (0, 196, 0.0004837929366231253), (1, 3, 0.018384131591678763), (1, 412, 0.001451378809869376), (0, 344, 0.0004837929366231253), (1, 485, 0.0004837929366231253), (1, 12, 0.006289308176100629), (0, 24, 0.004837929366231253), (0, 94, 0.001451378809869376), (1, 161, 0.0004837929366231253), (0, 118, 0.0009675858732462506), (1, 519, 0.0004837929366231253), (0, 13, 0.01644895984518626), (1, 67, 0.0004837929366231253), (0, 276, 0.0004837929366231253), (0, 62, 0.0019351717464925011), (0, 69, 0.0019351717464925011), (0, 106, 0.001451378809869376), (1, 170, 0.0019351717464925011), (0, 5, 0.02999516207063377), (0, 194, 0.0004837929366231253), (0, 75, 0.001451378809869376), (0, 346, 0.0004837929366231253), (1, 325, 0.0004837929366231253), (1, 8, 0.002902757619738752), (0, 53, 0.0024189646831156266), (1, 404, 0.0019351717464925011), (1, 487, 0.0004837929366231253), (0, 166, 0.0009675858732462506), (0, 91, 0.001451378809869376), (1, 416, 0.001451378809869376), (1, 391, 0.00725689404934688), (1, 255, 0.004837929366231253), (1, 379, 0.0004837929366231253), (0, 191, 0.0009675858732462506), (0, 217, 0.0004837929366231253), (1, 466, 0.0009675858732462506), (0, 93, 0.001451378809869376), (1, 525, 0.0004837929366231253), (0, 22, 0.005321722302854378), (1, 421, 0.001451378809869376), (0, 385, 0.0004837929366231253), (0, 89, 0.001451378809869376), (1, 403, 0.0019351717464925011), (0, 310, 0.0004837929366231253), (0, 219, 0.0004837929366231253), (1, 50, 0.003386550556361877), (0, 174, 0.0009675858732462506), (0, 226, 0.0004837929366231253), (0, 163, 0.0009675858732462506), (0, 188, 0.0009675858732462506), (0, 238, 0.0004837929366231253), (1, 430, 0.0009675858732462506), (0, 1, 0.07789066279632317), (1, 455, 0.0009675858732462506), (0, 335, 0.0004837929366231253), (0, 38, 0.003386550556361877), (0, 372, 0.0004837929366231253), (0, 324, 0.0004837929366231253), (0, 30, 0.0038703434929850023), (1, 515, 0.0004837929366231253), (1, 467, 0.0009675858732462506), (0, 122, 0.0009675858732462506), (1, 37, 0.05079825834542816), (1, 473, 0.0004837929366231253), (0, 304, 0.0004837929366231253), (0, 253, 0.0004837929366231253), (0, 305, 0.0004837929366231253), (0, 378, 0.0004837929366231253), (1, 495, 0.0004837929366231253), (0, 107, 0.001451378809869376), (1, 486, 0.0004837929366231253), (0, 28, 0.0043541364296081275), (1, 143, 0.0004837929366231253), (1, 476, 0.0004837929366231253), (1, 435, 0.0009675858732462506), (1, 178, 0.001451378809869376), (1, 356, 0.0004837929366231253), (1, 261, 0.0009675858732462506), (1, 250, 0.0004837929366231253), (1, 387, 0.02902757619738752), (1, 478, 0.0004837929366231253), (1, 28, 0.0024189646831156266), (0, 369, 0.0004837929366231253), (0, 311, 0.0004837929366231253), (1, 524, 0.0004837929366231253)]\n"
     ]
    }
   ],
   "source": [
    "# split dataset into train and test\n",
    "from surprise.model_selection import train_test_split\n",
    "\n",
    "trainset, testset = train_test_split(data_no_zeros, test_size=0.25)\n",
    "print(testset)"
   ]
  },
  {
   "cell_type": "code",
   "execution_count": 84,
   "metadata": {},
   "outputs": [
    {
     "data": {
      "text/plain": [
       "<surprise.prediction_algorithms.matrix_factorization.SVD at 0x119eb7150>"
      ]
     },
     "execution_count": 84,
     "metadata": {},
     "output_type": "execute_result"
    }
   ],
   "source": [
    "# fit SVD model\n",
    "from surprise import SVD, accuracy\n",
    "\n",
    "algo = SVD()\n",
    "algo.fit(trainset)"
   ]
  },
  {
   "cell_type": "code",
   "execution_count": 85,
   "metadata": {},
   "outputs": [],
   "source": [
    "# Make prediction\n",
    "predictions = algo.test(testset)"
   ]
  },
  {
   "cell_type": "code",
   "execution_count": 86,
   "metadata": {},
   "outputs": [
    {
     "name": "stdout",
     "output_type": "stream",
     "text": [
      "RMSE: 0.9971\n"
     ]
    },
    {
     "data": {
      "text/plain": [
       "0.9970894202423917"
      ]
     },
     "execution_count": 86,
     "metadata": {},
     "output_type": "execute_result"
    }
   ],
   "source": [
    "# Test model accuracy use root mean squared error\n",
    "from surprise import accuracy\n",
    "accuracy.rmse(predictions)"
   ]
  },
  {
   "cell_type": "code",
   "execution_count": 89,
   "metadata": {},
   "outputs": [],
   "source": [
    "data_zeros = Dataset.load_from_df(dataset_zeros[['userId', 'artistId', 'freq']], reader)"
   ]
  },
  {
   "cell_type": "code",
   "execution_count": 103,
   "metadata": {},
   "outputs": [
    {
     "name": "stdout",
     "output_type": "stream",
     "text": [
      "<class 'surprise.dataset.DatasetAutoFolds'>\n"
     ]
    }
   ],
   "source": [
    "print(type(data_zeros))\n",
    "\n",
    "trainset, testset = train_test_split(data_zeros, test_size=1)\n",
    "\n"
   ]
  },
  {
   "cell_type": "code",
   "execution_count": 104,
   "metadata": {},
   "outputs": [],
   "source": [
    "predictions = algo.test(testset)"
   ]
  },
  {
   "cell_type": "code",
   "execution_count": 105,
   "metadata": {},
   "outputs": [
    {
     "name": "stdout",
     "output_type": "stream",
     "text": [
      "[Prediction(uid=1, iid=195, r_ui=0.0004837929366231253, est=1, details={'was_impossible': False})]\n"
     ]
    }
   ],
   "source": []
  },
  {
   "cell_type": "code",
   "execution_count": null,
   "metadata": {},
   "outputs": [],
   "source": []
  }
 ],
 "metadata": {
  "kernelspec": {
   "display_name": "Python 3",
   "language": "python",
   "name": "python3"
  },
  "language_info": {
   "codemirror_mode": {
    "name": "ipython",
    "version": 3
   },
   "file_extension": ".py",
   "mimetype": "text/x-python",
   "name": "python",
   "nbconvert_exporter": "python",
   "pygments_lexer": "ipython3",
   "version": "3.7.4"
  }
 },
 "nbformat": 4,
 "nbformat_minor": 2
}
