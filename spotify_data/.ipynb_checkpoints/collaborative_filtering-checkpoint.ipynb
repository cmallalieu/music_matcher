{
 "cells": [
  {
   "cell_type": "code",
   "execution_count": 107,
   "metadata": {},
   "outputs": [],
   "source": [
    "import numpy as np\n",
    "import pandas as pd"
   ]
  },
  {
   "cell_type": "code",
   "execution_count": 108,
   "metadata": {},
   "outputs": [],
   "source": [
    "# Read in JSON into dataframe\n",
    "df = pd.read_json('./spotify_data/StreamingHistory.json')"
   ]
  },
  {
   "cell_type": "code",
   "execution_count": 109,
   "metadata": {},
   "outputs": [],
   "source": [
    "# get number of rows\n",
    "half_rows = df['artistName'].count() / 2"
   ]
  },
  {
   "cell_type": "code",
   "execution_count": 110,
   "metadata": {},
   "outputs": [],
   "source": [
    "# # Concatenate artist and song names with comma seperation and drop old columns\n",
    "# df['artist_song'] = df['artistName'] + ',' + df['trackName']\n",
    "# df = df.drop(columns=['artistName', 'trackName'])\n",
    "\n",
    "\n",
    "# drop all columns besides artistNames\n",
    "df = df.drop(columns=['trackName', 'endTime', 'msPlayed'])"
   ]
  },
  {
   "cell_type": "code",
   "execution_count": 111,
   "metadata": {},
   "outputs": [],
   "source": [
    "# split into 2 dfs\n",
    "df1, df2 = np.split(df, [int(half_rows)], axis=0)"
   ]
  },
  {
   "cell_type": "code",
   "execution_count": 143,
   "metadata": {},
   "outputs": [
    {
     "name": "stdout",
     "output_type": "stream",
     "text": [
      "                            artistName      freq\n",
      "0                                Flume  0.082245\n",
      "1                         Janis Joplin  0.077891\n",
      "2                             Jai Wolf  0.067731\n",
      "3                                 GRiZ  0.066280\n",
      "4    Big Brother & The Holding Company  0.045477\n",
      "..                                 ...       ...\n",
      "381                              ford.  0.000484\n",
      "382                              emune  0.000484\n",
      "383                          Roy Woods  0.000484\n",
      "384                       Grizzly Bear  0.000484\n",
      "385                  Rambutan Jam Band  0.000484\n",
      "\n",
      "[386 rows x 2 columns]\n",
      "----------------------\n",
      "          artistName      freq\n",
      "0         Kanye West  0.061925\n",
      "1    Johannes Brahms  0.050798\n",
      "2              Flume  0.049347\n",
      "3    Vampire Weekend  0.048379\n",
      "4           Big Wild  0.044509\n",
      "..               ...       ...\n",
      "307            SNBRN  0.000484\n",
      "308    Samuel Barber  0.000484\n",
      "309        Sure Sure  0.000484\n",
      "310          Foxygen  0.000484\n",
      "311  The Moody Blues  0.000484\n",
      "\n",
      "[312 rows x 2 columns]\n"
     ]
    }
   ],
   "source": [
    "# generate 2 dataframes with unique artists and their frequencies\n",
    "df1_unique_freq = df1['artistName'].value_counts(normalize=True).rename_axis('artistName').reset_index(name='freq')\n",
    "df2_unique_freq = df2['artistName'].value_counts(normalize=True).rename_axis('artistName').reset_index(name='freq')\n",
    "\n",
    "print(df1_unique_freq)\n",
    "print('----------------------')\n",
    "print(df2_unique_freq)"
   ]
  },
  {
   "cell_type": "code",
   "execution_count": 144,
   "metadata": {},
   "outputs": [],
   "source": [
    "# create ndarray of all unique artists from both dfs\n",
    "full_unique = pd.Series.append(df1_unique_freq['artistName'], df2_unique_freq['artistName']).unique()"
   ]
  },
  {
   "cell_type": "code",
   "execution_count": 164,
   "metadata": {},
   "outputs": [
    {
     "name": "stdout",
     "output_type": "stream",
     "text": [
      "                          artistName    freq_x    freq_y\n",
      "0                              Flume  0.082245  0.049347\n",
      "1                       Janis Joplin  0.077891  0.002903\n",
      "2                           Jai Wolf  0.067731  0.011611\n",
      "3                               GRiZ  0.066280  0.018384\n",
      "4  Big Brother & The Holding Company  0.045477  0.000000\n"
     ]
    }
   ],
   "source": [
    "# # create dataframe with combined unique artists and frequencies with NaN values filled with 0\n",
    "test = pd.merge(df1_unique_freq, df2_unique_freq, on=\"artistName\", how=\"outer\").fillna(0)\n",
    "print(test.head())"
   ]
  },
  {
   "cell_type": "code",
   "execution_count": 150,
   "metadata": {},
   "outputs": [
    {
     "name": "stdout",
     "output_type": "stream",
     "text": [
      "                            artistName\n",
      "0                                Flume\n",
      "1                         Janis Joplin\n",
      "2                             Jai Wolf\n",
      "3                                 GRiZ\n",
      "4    Big Brother & The Holding Company\n",
      "..                                 ...\n",
      "531                  Father John Misty\n",
      "532                              SNBRN\n",
      "533                      Samuel Barber\n",
      "534                            Foxygen\n",
      "535                    The Moody Blues\n",
      "\n",
      "[536 rows x 1 columns]\n"
     ]
    }
   ],
   "source": [
    "# # create dataframes with combined unique artists\n",
    "# df1_normal = pd.DataFrame(full_unique, columns=['artistName'])\n",
    "# df2_normal = pd.DataFrame(full_unique, columns=['artistName'])\n",
    "# print(df1_normal)"
   ]
  },
  {
   "cell_type": "code",
   "execution_count": 146,
   "metadata": {},
   "outputs": [],
   "source": [
    "# # get indexes of individual unique in combined unique\n",
    "# indexes = df1_normal['artistName'].isin(df1_unique_freq['artistName'])"
   ]
  },
  {
   "cell_type": "code",
   "execution_count": 171,
   "metadata": {},
   "outputs": [
    {
     "ename": "ModuleNotFoundError",
     "evalue": "No module named 'surprise'",
     "output_type": "error",
     "traceback": [
      "\u001b[0;31m---------------------------------------------------------------------------\u001b[0m",
      "\u001b[0;31mModuleNotFoundError\u001b[0m                       Traceback (most recent call last)",
      "\u001b[0;32m<ipython-input-171-64df1e8420ad>\u001b[0m in \u001b[0;36m<module>\u001b[0;34m\u001b[0m\n\u001b[0;32m----> 1\u001b[0;31m \u001b[0;32mfrom\u001b[0m \u001b[0msurprise\u001b[0m \u001b[0;32mimport\u001b[0m \u001b[0mSVD\u001b[0m\u001b[0;34m\u001b[0m\u001b[0;34m\u001b[0m\u001b[0m\n\u001b[0m",
      "\u001b[0;31mModuleNotFoundError\u001b[0m: No module named 'surprise'"
     ]
    }
   ],
   "source": [
    "from surprise import SVD"
   ]
  },
  {
   "cell_type": "code",
   "execution_count": null,
   "metadata": {},
   "outputs": [],
   "source": []
  }
 ],
 "metadata": {
  "kernelspec": {
   "display_name": "Python 3",
   "language": "python",
   "name": "python3"
  },
  "language_info": {
   "codemirror_mode": {
    "name": "ipython",
    "version": 3
   },
   "file_extension": ".py",
   "mimetype": "text/x-python",
   "name": "python",
   "nbconvert_exporter": "python",
   "pygments_lexer": "ipython3",
   "version": "3.7.4"
  }
 },
 "nbformat": 4,
 "nbformat_minor": 2
}
